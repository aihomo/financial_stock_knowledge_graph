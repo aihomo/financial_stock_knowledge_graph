{
 "cells": [
  {
   "cell_type": "markdown",
   "metadata": {},
   "source": [
    "# 金融 证券 图谱搭建"
   ]
  },
  {
   "cell_type": "markdown",
   "metadata": {},
   "source": [
    "根据前面数据梳理结果，下面按照节点和关系分别进行数据抽取\n",
    "\n",
    "实体(节点)方面\n",
    "1. 省份\n",
    "2. 城市\n",
    "3. 公司(上市公司 \\ 基金管理公司 \\ 基金托管公司)\n",
    "4. 人（上市公司管理层）\n",
    "5. 基金\n",
    "6. 行业\n",
    "\n",
    "关系方面\n",
    "1. 城市 - [IN_PROVINCE] - > 省份 \n",
    "2. 公司(上市公司\\基金管理公司\\ 基金托管公司) - [IN_CITY] - > 城市\n",
    "4. 公司(上市公司) - [HAS_MANGER] - > 人（上市公司管理层）  [6类]\n",
    "5. 公司(上市公司) - [IN_INDUSTRY] - > 行业\n",
    "6. 基金  - [HAS_MANAGEMNET] - > 公司(基金管理公司)\n",
    "6. 基金  - [HAS_CUSTODIAN] - > 公司(基金托管公司)\n",
    "7. 基金  - [IN_PORTFOLIO] ->  公司(上市公司)"
   ]
  },
  {
   "cell_type": "markdown",
   "metadata": {},
   "source": [
    "## 数据处理"
   ]
  },
  {
   "cell_type": "code",
   "execution_count": 1,
   "metadata": {},
   "outputs": [],
   "source": [
    "import pandas as pd"
   ]
  },
  {
   "cell_type": "code",
   "execution_count": 2,
   "metadata": {
    "ExecuteTime": {
     "end_time": "2020-01-28T04:42:41.950244Z",
     "start_time": "2020-01-28T04:42:41.942240Z"
    }
   },
   "outputs": [],
   "source": [
    "def generate_input_files(data,dicts,types,output_path='../data/output/'):\n",
    "    cols =list(dicts.keys())\n",
    "    temp = data[cols]\n",
    "    temp.drop_duplicates(cols,inplace=True)\n",
    "\n",
    "    print('save header {}..')\n",
    "    columns = ','.join(dicts.values())\n",
    "    with open(output_path+'{}-header.csv'.format(types),'w') as f:\n",
    "        f.write(columns)\n",
    "    \n",
    "    print('save_data ...\\n',output_path+'{}.csv'.format(types))\n",
    "    temp.to_csv(output_path+'{}.csv'.format(types),index=False,header=False)\n",
    "    print(temp.shape)\n",
    "    return temp\n"
   ]
  },
  {
   "cell_type": "code",
   "execution_count": 3,
   "metadata": {},
   "outputs": [],
   "source": [
    "output_path = '../data_update/output/'\n",
    "\n",
    "data_path = '../data_update/'\n",
    "\n",
    "DATE = '_20200204'\n",
    "\n",
    "company_lsit_name = f'company_lsit_all{DATE}.csv'\n",
    "company_detail_name =  f'company_detail_all{DATE}.csv'\n",
    "stk_managers_name = f'stk_managers{DATE}.csv'\n",
    "fund_basic_name = f'fund_basic{DATE}.csv'\n",
    "fund_company_name = f'fund_company{DATE}.csv'\n",
    "fund_portfolio_name = f'fund_portfolio{DATE}.csv'"
   ]
  },
  {
   "cell_type": "code",
   "execution_count": 4,
   "metadata": {
    "ExecuteTime": {
     "end_time": "2020-01-28T04:42:43.105647Z",
     "start_time": "2020-01-28T04:42:43.100643Z"
    }
   },
   "outputs": [],
   "source": [
    "all_dicts ={}"
   ]
  },
  {
   "cell_type": "markdown",
   "metadata": {
    "ExecuteTime": {
     "end_time": "2020-01-26T14:58:19.217230Z",
     "start_time": "2020-01-26T14:58:19.208235Z"
    }
   },
   "source": [
    "## 1.公司\n",
    "合并 处理 基金管理人\\ 基金托管人\\ 上市公司\\"
   ]
  },
  {
   "cell_type": "markdown",
   "metadata": {},
   "source": [
    "### 1.1 上市公司"
   ]
  },
  {
   "cell_type": "code",
   "execution_count": 5,
   "metadata": {
    "ExecuteTime": {
     "end_time": "2020-01-28T04:42:44.265247Z",
     "start_time": "2020-01-28T04:42:44.234210Z"
    }
   },
   "outputs": [],
   "source": [
    "usecols = ['ts_code','symbol','name','industry','fullname','market','exchange','list_status',\n",
    "           'list_date','delist_date']\n",
    "\n",
    "df_company_lsit_all =  pd.read_csv(data_path + company_lsit_name,dtype={\"symbol\":str},usecols=usecols)"
   ]
  },
  {
   "cell_type": "code",
   "execution_count": 6,
   "metadata": {
    "ExecuteTime": {
     "end_time": "2020-01-28T04:42:44.458220Z",
     "start_time": "2020-01-28T04:42:44.440212Z"
    }
   },
   "outputs": [],
   "source": [
    "df_company_lsit_all['list_date'] = df_company_lsit_all['list_date'].apply(lambda x: -1 if pd.isnull(x) else int(x) )\n",
    "df_company_lsit_all['delist_date'] = df_company_lsit_all['delist_date'].apply(lambda x: -1 if pd.isnull(x) else int(x) )\n",
    "\n",
    "df_company_lsit_all['label_listed_company']='LISTED_COMPANY'"
   ]
  },
  {
   "cell_type": "code",
   "execution_count": 7,
   "metadata": {},
   "outputs": [],
   "source": [
    "df_company_lsit_all['symbol'] = df_company_lsit_all['ts_code'].apply(lambda x: x.split('.')[0])"
   ]
  },
  {
   "cell_type": "markdown",
   "metadata": {},
   "source": [
    "### 1.2  基金管理公司"
   ]
  },
  {
   "cell_type": "markdown",
   "metadata": {},
   "source": [
    "fund_company 和 fund_basic 两张数据表中，有下面五个银行、一个券商、一个资管 名称公司简称**没有对齐**，\n",
    "\n",
    "这里我们手工对其下：\n",
    "处理 几个 ['中国民生银行', '中国光大银行', '中国工商银行', '中国建设银行', '中国农业银行'] 带有 \"中国\" 的公司"
   ]
  },
  {
   "cell_type": "code",
   "execution_count": 8,
   "metadata": {
    "ExecuteTime": {
     "end_time": "2020-01-28T04:42:45.122649Z",
     "start_time": "2020-01-28T04:42:45.118648Z"
    }
   },
   "outputs": [],
   "source": [
    "comp_simplify_dict = {\n",
    "    '中国民生银行':'民生银行',\n",
    "    '中国光大银行':'光大银行', \n",
    "    '中国工商银行':'工商银行', \n",
    "    '中国建设银行':'建设银行',\n",
    "    '中国农业银行':'农业银行',\n",
    "    '中银国际证券':'中银证券',\n",
    "    '财通证券资管':'财通资管'\n",
    "}"
   ]
  },
  {
   "cell_type": "markdown",
   "metadata": {},
   "source": [
    "此外，fund_basic 中基金管理人（management）中有 12 个公司 没有 在 资管数据表 fund_company 中出现。 需要额外补全，其全称"
   ]
  },
  {
   "cell_type": "code",
   "execution_count": 9,
   "metadata": {},
   "outputs": [],
   "source": [
    "# 基金管理人补齐全称\n",
    "fund_manage_fullname_dict = {\n",
    "    '东证资管':'东方证券资产管理有限公司',\n",
    "    '中泰资管':'中泰证券（上海）资产管理有限公司',\n",
    "    '华泰证券资管':'华华泰证券资产管理公司',\n",
    "    '华融基金':'华融基金管理有限公司',\n",
    "    '博远基金':'博远基金管理有限公司',\n",
    "    '同泰基金':'同泰基金管理有限公司',\n",
    "    '平安基金':'平安基金管理有限公司',\n",
    "    '惠升基金':'惠升基金管理有限公司',\n",
    "    '朱雀基金':'朱雀基金管理有限公司',\n",
    "    '淳厚基金':'淳厚基金管理有限公司',\n",
    "    '睿远基金':'睿远基金管理有限公司',\n",
    "    '西藏东财基金':'西藏东财基金管理有限公司',\n",
    "    '山西证券':'山西证券股份有限公司',\n",
    "    '恒丰银行':'恒丰银行股份有限公司',\n",
    "    '广发银行':'广发银行股份有限公司'\n",
    "}"
   ]
  },
  {
   "cell_type": "markdown",
   "metadata": {},
   "source": [
    "#### 1.2.1 fund_company  中 基金管理人"
   ]
  },
  {
   "cell_type": "code",
   "execution_count": 10,
   "metadata": {
    "ExecuteTime": {
     "end_time": "2020-01-28T04:42:45.596079Z",
     "start_time": "2020-01-28T04:42:45.444078Z"
    }
   },
   "outputs": [],
   "source": [
    "# 基金管理人数据\n",
    "usecols = ['name','shortname','province','city','address','office','website',\n",
    "            'setup_date','end_date','main_business','org_code','credit_code']\n",
    "df_fund_company = pd.read_csv(data_path + fund_company_name,usecols=usecols)"
   ]
  },
  {
   "cell_type": "code",
   "execution_count": 11,
   "metadata": {
    "ExecuteTime": {
     "end_time": "2020-01-28T04:42:45.808078Z",
     "start_time": "2020-01-28T04:42:45.768093Z"
    }
   },
   "outputs": [],
   "source": [
    "df_fund_company['setup_date'] = df_fund_company['setup_date'].apply(lambda x: -1 if pd.isnull(x) else int(x) )\n",
    "df_fund_company['end_date'] = df_fund_company['end_date'].apply(lambda x: -1 if pd.isnull(x) else int(x) )"
   ]
  },
  {
   "cell_type": "code",
   "execution_count": 12,
   "metadata": {
    "ExecuteTime": {
     "end_time": "2020-01-28T04:42:46.531733Z",
     "start_time": "2020-01-28T04:42:46.453650Z"
    }
   },
   "outputs": [],
   "source": [
    "df_fund_company = df_fund_company.rename(columns ={'name':'fullname','shortname':'name'}).drop_duplicates()"
   ]
  },
  {
   "cell_type": "code",
   "execution_count": 13,
   "metadata": {
    "ExecuteTime": {
     "end_time": "2020-01-28T04:42:46.684650Z",
     "start_time": "2020-01-28T04:42:46.667650Z"
    },
    "scrolled": true
   },
   "outputs": [],
   "source": [
    "df_fund_company['name'] = df_fund_company['name'].apply(lambda x : comp_simplify_dict[x] if x in comp_simplify_dict.keys() else x )"
   ]
  },
  {
   "cell_type": "markdown",
   "metadata": {},
   "source": [
    "#### 1.2.2 fund_basic 中基金管理人"
   ]
  },
  {
   "cell_type": "code",
   "execution_count": 14,
   "metadata": {
    "ExecuteTime": {
     "end_time": "2020-01-28T05:27:57.177267Z",
     "start_time": "2020-01-28T05:27:57.086178Z"
    }
   },
   "outputs": [],
   "source": [
    "# 基金数据 \n",
    "df_fund_basic = pd.read_csv(data_path + fund_basic_name)"
   ]
  },
  {
   "cell_type": "code",
   "execution_count": 15,
   "metadata": {},
   "outputs": [],
   "source": [
    "df_fund_basic['management'] = df_fund_basic['management'].apply(lambda x : comp_simplify_dict[x] if x in comp_simplify_dict.keys() else x )\n",
    "\n",
    "df_fund_basic['custodian'] = df_fund_basic['custodian'].apply(lambda x : comp_simplify_dict[x] if x in comp_simplify_dict.keys() else x )"
   ]
  },
  {
   "cell_type": "code",
   "execution_count": 16,
   "metadata": {},
   "outputs": [],
   "source": [
    "#  df_fund_basic 中 管理人 management\n",
    "node_fund_management = df_fund_basic.loc[df_fund_basic.management.notnull(),['management']]\n",
    "node_fund_management = node_fund_management.rename(columns = {'management':'name'})"
   ]
  },
  {
   "cell_type": "markdown",
   "metadata": {},
   "source": [
    "##### 1.2.3 合并数据"
   ]
  },
  {
   "cell_type": "code",
   "execution_count": 17,
   "metadata": {},
   "outputs": [],
   "source": [
    "df_fund_company = pd.merge(df_fund_company,node_fund_management,on=['name'],how='outer').drop_duplicates()"
   ]
  },
  {
   "cell_type": "code",
   "execution_count": 18,
   "metadata": {},
   "outputs": [],
   "source": [
    "df_fund_company['fullname'] = df_fund_company.apply(lambda x:fund_manage_fullname_dict[x['name']] if pd.isnull(x['fullname']) else x['fullname'],axis=1 )"
   ]
  },
  {
   "cell_type": "code",
   "execution_count": 19,
   "metadata": {
    "ExecuteTime": {
     "end_time": "2020-01-28T04:42:46.203523Z",
     "start_time": "2020-01-28T04:42:46.199519Z"
    }
   },
   "outputs": [],
   "source": [
    "df_fund_company['label_manager'] = 'FUND_MANAGER'"
   ]
  },
  {
   "cell_type": "markdown",
   "metadata": {},
   "source": [
    "### 1.3 基金托管公司"
   ]
  },
  {
   "cell_type": "markdown",
   "metadata": {},
   "source": [
    "托管人中存在下面8个没有在大陆上市的公司。"
   ]
  },
  {
   "cell_type": "markdown",
   "metadata": {},
   "source": [
    "- '中泰证券': 未上市\n",
    "- '中金公司': HK中金公司(03908)\n",
    "- '包商银行': 未上市\n",
    "- '广发银行': 未上市\n",
    "- '广州农商银行': 广州农商银行 01551.HK\n",
    "- '徽商银行':  徽商银行03698.HK\n",
    "- '恒丰银行': 未上市\n",
    "- '渤海银行': 未上市"
   ]
  },
  {
   "cell_type": "code",
   "execution_count": 20,
   "metadata": {
    "ExecuteTime": {
     "end_time": "2020-01-28T04:42:47.906519Z",
     "start_time": "2020-01-28T04:42:47.892520Z"
    }
   },
   "outputs": [],
   "source": [
    "node_fund_custodian = df_fund_basic.loc[df_fund_basic.custodian.notnull(),['custodian']].drop_duplicates()\n",
    "node_fund_custodian = node_fund_custodian.rename(columns = {'custodian':'name'})"
   ]
  },
  {
   "cell_type": "code",
   "execution_count": 21,
   "metadata": {
    "ExecuteTime": {
     "end_time": "2020-01-28T04:42:49.114581Z",
     "start_time": "2020-01-28T04:42:49.109585Z"
    }
   },
   "outputs": [],
   "source": [
    "node_fund_custodian['label_custodian'] = 'FUND_CUSTODIAN'"
   ]
  },
  {
   "cell_type": "code",
   "execution_count": 22,
   "metadata": {},
   "outputs": [
    {
     "data": {
      "text/plain": [
       "(40, 2)"
      ]
     },
     "execution_count": 22,
     "metadata": {},
     "output_type": "execute_result"
    }
   ],
   "source": [
    "node_fund_custodian.shape"
   ]
  },
  {
   "cell_type": "markdown",
   "metadata": {},
   "source": [
    "### 1.4 合并数据·"
   ]
  },
  {
   "cell_type": "code",
   "execution_count": 23,
   "metadata": {
    "ExecuteTime": {
     "end_time": "2020-01-28T04:43:12.979068Z",
     "start_time": "2020-01-28T04:43:12.854053Z"
    }
   },
   "outputs": [],
   "source": [
    "node_companies = pd.merge(df_company_lsit_all,df_fund_company,on=['fullname','name'],how='outer').drop_duplicates()"
   ]
  },
  {
   "cell_type": "code",
   "execution_count": 24,
   "metadata": {
    "ExecuteTime": {
     "end_time": "2020-01-28T04:43:13.517525Z",
     "start_time": "2020-01-28T04:43:13.406450Z"
    }
   },
   "outputs": [],
   "source": [
    "node_companies = pd.merge(node_companies,node_fund_custodian,on=['name'],how='outer').drop_duplicates()"
   ]
  },
  {
   "cell_type": "code",
   "execution_count": 25,
   "metadata": {},
   "outputs": [
    {
     "data": {
      "text/plain": [
       "18992    广发银行\n",
       "18993    恒丰银行\n",
       "Name: name, dtype: object"
      ]
     },
     "execution_count": 25,
     "metadata": {},
     "output_type": "execute_result"
    }
   ],
   "source": [
    "node_companies[node_companies.fullname.isnull()].name"
   ]
  },
  {
   "cell_type": "markdown",
   "metadata": {
    "ExecuteTime": {
     "end_time": "2020-01-27T12:27:30.821355Z",
     "start_time": "2020-01-27T12:27:30.808359Z"
    }
   },
   "source": [
    " 有**2** 家公司没有拼上,分别是 `恒丰银行`,`广发银行`.\n",
    " 通过网查,将两个公司的全名补上"
   ]
  },
  {
   "cell_type": "code",
   "execution_count": 26,
   "metadata": {
    "ExecuteTime": {
     "end_time": "2020-01-28T04:43:28.916110Z",
     "start_time": "2020-01-28T04:43:28.897113Z"
    }
   },
   "outputs": [],
   "source": [
    "node_companies.loc[node_companies.name == '恒丰银行','fullname'] = '恒丰银行股份有限公司'\n",
    "node_companies.loc[node_companies.name == '广发银行','fullname'] = '广发银行股份有限公司'"
   ]
  },
  {
   "cell_type": "code",
   "execution_count": 27,
   "metadata": {
    "ExecuteTime": {
     "end_time": "2020-01-28T04:43:35.460694Z",
     "start_time": "2020-01-28T04:43:35.432695Z"
    },
    "scrolled": false
   },
   "outputs": [
    {
     "data": {
      "text/html": [
       "<div>\n",
       "<style scoped>\n",
       "    .dataframe tbody tr th:only-of-type {\n",
       "        vertical-align: middle;\n",
       "    }\n",
       "\n",
       "    .dataframe tbody tr th {\n",
       "        vertical-align: top;\n",
       "    }\n",
       "\n",
       "    .dataframe thead th {\n",
       "        text-align: right;\n",
       "    }\n",
       "</style>\n",
       "<table border=\"1\" class=\"dataframe\">\n",
       "  <thead>\n",
       "    <tr style=\"text-align: right;\">\n",
       "      <th></th>\n",
       "      <th>ts_code</th>\n",
       "      <th>symbol</th>\n",
       "      <th>name</th>\n",
       "      <th>industry</th>\n",
       "      <th>fullname</th>\n",
       "      <th>market</th>\n",
       "      <th>exchange</th>\n",
       "      <th>list_status</th>\n",
       "      <th>list_date</th>\n",
       "      <th>delist_date</th>\n",
       "      <th>...</th>\n",
       "      <th>address</th>\n",
       "      <th>office</th>\n",
       "      <th>website</th>\n",
       "      <th>setup_date</th>\n",
       "      <th>end_date</th>\n",
       "      <th>main_business</th>\n",
       "      <th>org_code</th>\n",
       "      <th>credit_code</th>\n",
       "      <th>label_manager</th>\n",
       "      <th>label_custodian</th>\n",
       "    </tr>\n",
       "  </thead>\n",
       "  <tbody>\n",
       "  </tbody>\n",
       "</table>\n",
       "<p>0 rows × 23 columns</p>\n",
       "</div>"
      ],
      "text/plain": [
       "Empty DataFrame\n",
       "Columns: [ts_code, symbol, name, industry, fullname, market, exchange, list_status, list_date, delist_date, label_listed_company, province, city, address, office, website, setup_date, end_date, main_business, org_code, credit_code, label_manager, label_custodian]\n",
       "Index: []\n",
       "\n",
       "[0 rows x 23 columns]"
      ]
     },
     "execution_count": 27,
     "metadata": {},
     "output_type": "execute_result"
    }
   ],
   "source": [
    "node_companies[node_companies.fullname.isnull()]"
   ]
  },
  {
   "cell_type": "code",
   "execution_count": 28,
   "metadata": {
    "scrolled": true
   },
   "outputs": [
    {
     "name": "stdout",
     "output_type": "stream",
     "text": [
      "缺失的资管公司数： 0\n"
     ]
    },
    {
     "data": {
      "text/plain": [
       "set()"
      ]
     },
     "execution_count": 28,
     "metadata": {},
     "output_type": "execute_result"
    }
   ],
   "source": [
    "print('缺失的资管公司数：',len(set(df_fund_basic.management) - set(node_companies.name)))\n",
    "\n",
    "set(df_fund_basic.management) - set(node_companies.name)"
   ]
  },
  {
   "cell_type": "markdown",
   "metadata": {},
   "source": [
    "### 1.5  处理标签"
   ]
  },
  {
   "cell_type": "code",
   "execution_count": 29,
   "metadata": {
    "ExecuteTime": {
     "end_time": "2020-01-28T04:47:10.092333Z",
     "start_time": "2020-01-28T04:47:10.080338Z"
    }
   },
   "outputs": [],
   "source": [
    "node_companies['label_listed_company'] = node_companies['label_listed_company'].fillna('')\n",
    "node_companies['label_manager'] = node_companies['label_manager'].fillna('')\n",
    "node_companies['label_custodian'] = node_companies['label_custodian'].fillna('')"
   ]
  },
  {
   "cell_type": "code",
   "execution_count": 30,
   "metadata": {
    "ExecuteTime": {
     "end_time": "2020-01-28T04:49:55.703223Z",
     "start_time": "2020-01-28T04:49:55.698254Z"
    }
   },
   "outputs": [],
   "source": [
    "def join_label(ls):\n",
    "    return 'COMPANY;'+ ';'.join([c for c in ls  if c !=''])"
   ]
  },
  {
   "cell_type": "code",
   "execution_count": 31,
   "metadata": {
    "ExecuteTime": {
     "end_time": "2020-01-28T04:50:07.071753Z",
     "start_time": "2020-01-28T04:50:06.340676Z"
    }
   },
   "outputs": [],
   "source": [
    "node_companies['label'] = node_companies.apply(lambda x: join_label([x['label_listed_company'],x['label_manager'],x['label_custodian']]),axis=1)"
   ]
  },
  {
   "cell_type": "code",
   "execution_count": 32,
   "metadata": {
    "ExecuteTime": {
     "end_time": "2020-01-28T04:50:59.563656Z",
     "start_time": "2020-01-28T04:50:59.551658Z"
    }
   },
   "outputs": [],
   "source": [
    "# 基于 上市公司信息 company_lsit_all\n",
    "all_dicts['node_companies'] = {  'fullname':'company:ID(company)', \n",
    "                            'name':'short_name', # 股票名称\n",
    "                            'symbol':'share_code', # 股票全称\n",
    "                            'market':'market', # 市场类型 （主板/中小板/创业板/科创板）\n",
    "                            'exchange':'exchange', # 交易所代码\n",
    "                            'list_status':'list_status', # 上市状态： L上市 D退市 P暂停上市\n",
    "                            'list_date':'list_date:float', # 上市日期\n",
    "                            'delist_date':'delist_date:float', # 退市日期\n",
    "                            'setup_date':'setup_date',   # 成立日期\n",
    "                            'label':':LABEL'\n",
    "                           }"
   ]
  },
  {
   "cell_type": "code",
   "execution_count": 33,
   "metadata": {
    "ExecuteTime": {
     "end_time": "2020-01-28T04:51:01.010095Z",
     "start_time": "2020-01-28T04:51:00.707099Z"
    },
    "scrolled": true
   },
   "outputs": [
    {
     "ename": "TypeError",
     "evalue": "unhashable type: 'dict_keys'",
     "output_type": "error",
     "traceback": [
      "\u001b[0;31m---------------------------------------------------------------------------\u001b[0m",
      "\u001b[0;31mTypeError\u001b[0m                                 Traceback (most recent call last)",
      "\u001b[0;32m<ipython-input-33-106a2b212010>\u001b[0m in \u001b[0;36m<module>\u001b[0;34m\u001b[0m\n\u001b[1;32m      1\u001b[0m \u001b[0mtypes\u001b[0m \u001b[0;34m=\u001b[0m \u001b[0;34m'node_companies'\u001b[0m\u001b[0;34m\u001b[0m\u001b[0;34m\u001b[0m\u001b[0m\n\u001b[0;32m----> 2\u001b[0;31m \u001b[0mtemp\u001b[0m \u001b[0;34m=\u001b[0m \u001b[0mgenerate_input_files\u001b[0m\u001b[0;34m(\u001b[0m\u001b[0mnode_companies\u001b[0m\u001b[0;34m,\u001b[0m\u001b[0mdicts\u001b[0m\u001b[0;34m=\u001b[0m\u001b[0mall_dicts\u001b[0m\u001b[0;34m[\u001b[0m\u001b[0mtypes\u001b[0m\u001b[0;34m]\u001b[0m \u001b[0;34m,\u001b[0m\u001b[0mtypes\u001b[0m \u001b[0;34m=\u001b[0m \u001b[0mtypes\u001b[0m\u001b[0;34m,\u001b[0m\u001b[0moutput_path\u001b[0m \u001b[0;34m=\u001b[0m \u001b[0moutput_path\u001b[0m\u001b[0;34m)\u001b[0m\u001b[0;34m\u001b[0m\u001b[0;34m\u001b[0m\u001b[0m\n\u001b[0m",
      "\u001b[0;32m<ipython-input-2-9e7428c97dc6>\u001b[0m in \u001b[0;36mgenerate_input_files\u001b[0;34m(data, dicts, types, output_path)\u001b[0m\n\u001b[1;32m      1\u001b[0m \u001b[0;32mdef\u001b[0m \u001b[0mgenerate_input_files\u001b[0m\u001b[0;34m(\u001b[0m\u001b[0mdata\u001b[0m\u001b[0;34m,\u001b[0m\u001b[0mdicts\u001b[0m\u001b[0;34m,\u001b[0m\u001b[0mtypes\u001b[0m\u001b[0;34m,\u001b[0m\u001b[0moutput_path\u001b[0m\u001b[0;34m=\u001b[0m\u001b[0;34m'../data/output/'\u001b[0m\u001b[0;34m)\u001b[0m\u001b[0;34m:\u001b[0m\u001b[0;34m\u001b[0m\u001b[0;34m\u001b[0m\u001b[0m\n\u001b[1;32m      2\u001b[0m     \u001b[0mcols\u001b[0m \u001b[0;34m=\u001b[0m \u001b[0mdicts\u001b[0m\u001b[0;34m.\u001b[0m\u001b[0mkeys\u001b[0m\u001b[0;34m(\u001b[0m\u001b[0;34m)\u001b[0m\u001b[0;34m\u001b[0m\u001b[0;34m\u001b[0m\u001b[0m\n\u001b[0;32m----> 3\u001b[0;31m     \u001b[0mtemp\u001b[0m \u001b[0;34m=\u001b[0m \u001b[0mdata\u001b[0m\u001b[0;34m[\u001b[0m\u001b[0mcols\u001b[0m\u001b[0;34m]\u001b[0m\u001b[0;34m\u001b[0m\u001b[0;34m\u001b[0m\u001b[0m\n\u001b[0m\u001b[1;32m      4\u001b[0m     \u001b[0mtemp\u001b[0m\u001b[0;34m.\u001b[0m\u001b[0mdrop_duplicates\u001b[0m\u001b[0;34m(\u001b[0m\u001b[0mcols\u001b[0m\u001b[0;34m,\u001b[0m\u001b[0minplace\u001b[0m\u001b[0;34m=\u001b[0m\u001b[0;32mTrue\u001b[0m\u001b[0;34m)\u001b[0m\u001b[0;34m\u001b[0m\u001b[0;34m\u001b[0m\u001b[0m\n\u001b[1;32m      5\u001b[0m \u001b[0;34m\u001b[0m\u001b[0m\n",
      "\u001b[0;32m/opt/conda/lib/python3.7/site-packages/pandas/core/frame.py\u001b[0m in \u001b[0;36m__getitem__\u001b[0;34m(self, key)\u001b[0m\n\u001b[1;32m   2686\u001b[0m             \u001b[0;32mreturn\u001b[0m \u001b[0mself\u001b[0m\u001b[0;34m.\u001b[0m\u001b[0m_getitem_multilevel\u001b[0m\u001b[0;34m(\u001b[0m\u001b[0mkey\u001b[0m\u001b[0;34m)\u001b[0m\u001b[0;34m\u001b[0m\u001b[0;34m\u001b[0m\u001b[0m\n\u001b[1;32m   2687\u001b[0m         \u001b[0;32melse\u001b[0m\u001b[0;34m:\u001b[0m\u001b[0;34m\u001b[0m\u001b[0;34m\u001b[0m\u001b[0m\n\u001b[0;32m-> 2688\u001b[0;31m             \u001b[0;32mreturn\u001b[0m \u001b[0mself\u001b[0m\u001b[0;34m.\u001b[0m\u001b[0m_getitem_column\u001b[0m\u001b[0;34m(\u001b[0m\u001b[0mkey\u001b[0m\u001b[0;34m)\u001b[0m\u001b[0;34m\u001b[0m\u001b[0;34m\u001b[0m\u001b[0m\n\u001b[0m\u001b[1;32m   2689\u001b[0m \u001b[0;34m\u001b[0m\u001b[0m\n\u001b[1;32m   2690\u001b[0m     \u001b[0;32mdef\u001b[0m \u001b[0m_getitem_column\u001b[0m\u001b[0;34m(\u001b[0m\u001b[0mself\u001b[0m\u001b[0;34m,\u001b[0m \u001b[0mkey\u001b[0m\u001b[0;34m)\u001b[0m\u001b[0;34m:\u001b[0m\u001b[0;34m\u001b[0m\u001b[0;34m\u001b[0m\u001b[0m\n",
      "\u001b[0;32m/opt/conda/lib/python3.7/site-packages/pandas/core/frame.py\u001b[0m in \u001b[0;36m_getitem_column\u001b[0;34m(self, key)\u001b[0m\n\u001b[1;32m   2693\u001b[0m         \u001b[0;31m# get column\u001b[0m\u001b[0;34m\u001b[0m\u001b[0;34m\u001b[0m\u001b[0;34m\u001b[0m\u001b[0m\n\u001b[1;32m   2694\u001b[0m         \u001b[0;32mif\u001b[0m \u001b[0mself\u001b[0m\u001b[0;34m.\u001b[0m\u001b[0mcolumns\u001b[0m\u001b[0;34m.\u001b[0m\u001b[0mis_unique\u001b[0m\u001b[0;34m:\u001b[0m\u001b[0;34m\u001b[0m\u001b[0;34m\u001b[0m\u001b[0m\n\u001b[0;32m-> 2695\u001b[0;31m             \u001b[0;32mreturn\u001b[0m \u001b[0mself\u001b[0m\u001b[0;34m.\u001b[0m\u001b[0m_get_item_cache\u001b[0m\u001b[0;34m(\u001b[0m\u001b[0mkey\u001b[0m\u001b[0;34m)\u001b[0m\u001b[0;34m\u001b[0m\u001b[0;34m\u001b[0m\u001b[0m\n\u001b[0m\u001b[1;32m   2696\u001b[0m \u001b[0;34m\u001b[0m\u001b[0m\n\u001b[1;32m   2697\u001b[0m         \u001b[0;31m# duplicate columns & possible reduce dimensionality\u001b[0m\u001b[0;34m\u001b[0m\u001b[0;34m\u001b[0m\u001b[0;34m\u001b[0m\u001b[0m\n",
      "\u001b[0;32m/opt/conda/lib/python3.7/site-packages/pandas/core/generic.py\u001b[0m in \u001b[0;36m_get_item_cache\u001b[0;34m(self, item)\u001b[0m\n\u001b[1;32m   2485\u001b[0m         \u001b[0;34m\"\"\"Return the cached item, item represents a label indexer.\"\"\"\u001b[0m\u001b[0;34m\u001b[0m\u001b[0;34m\u001b[0m\u001b[0m\n\u001b[1;32m   2486\u001b[0m         \u001b[0mcache\u001b[0m \u001b[0;34m=\u001b[0m \u001b[0mself\u001b[0m\u001b[0;34m.\u001b[0m\u001b[0m_item_cache\u001b[0m\u001b[0;34m\u001b[0m\u001b[0;34m\u001b[0m\u001b[0m\n\u001b[0;32m-> 2487\u001b[0;31m         \u001b[0mres\u001b[0m \u001b[0;34m=\u001b[0m \u001b[0mcache\u001b[0m\u001b[0;34m.\u001b[0m\u001b[0mget\u001b[0m\u001b[0;34m(\u001b[0m\u001b[0mitem\u001b[0m\u001b[0;34m)\u001b[0m\u001b[0;34m\u001b[0m\u001b[0;34m\u001b[0m\u001b[0m\n\u001b[0m\u001b[1;32m   2488\u001b[0m         \u001b[0;32mif\u001b[0m \u001b[0mres\u001b[0m \u001b[0;32mis\u001b[0m \u001b[0;32mNone\u001b[0m\u001b[0;34m:\u001b[0m\u001b[0;34m\u001b[0m\u001b[0;34m\u001b[0m\u001b[0m\n\u001b[1;32m   2489\u001b[0m             \u001b[0mvalues\u001b[0m \u001b[0;34m=\u001b[0m \u001b[0mself\u001b[0m\u001b[0;34m.\u001b[0m\u001b[0m_data\u001b[0m\u001b[0;34m.\u001b[0m\u001b[0mget\u001b[0m\u001b[0;34m(\u001b[0m\u001b[0mitem\u001b[0m\u001b[0;34m)\u001b[0m\u001b[0;34m\u001b[0m\u001b[0;34m\u001b[0m\u001b[0m\n",
      "\u001b[0;31mTypeError\u001b[0m: unhashable type: 'dict_keys'"
     ]
    }
   ],
   "source": [
    "types = 'node_companies'\n",
    "temp = generate_input_files(node_companies,dicts=all_dicts[types] ,types = types,output_path = output_path)"
   ]
  },
  {
   "cell_type": "code",
   "execution_count": 34,
   "metadata": {},
   "outputs": [
    {
     "data": {
      "text/html": [
       "<div>\n",
       "<style scoped>\n",
       "    .dataframe tbody tr th:only-of-type {\n",
       "        vertical-align: middle;\n",
       "    }\n",
       "\n",
       "    .dataframe tbody tr th {\n",
       "        vertical-align: top;\n",
       "    }\n",
       "\n",
       "    .dataframe thead th {\n",
       "        text-align: right;\n",
       "    }\n",
       "</style>\n",
       "<table border=\"1\" class=\"dataframe\">\n",
       "  <thead>\n",
       "    <tr style=\"text-align: right;\">\n",
       "      <th></th>\n",
       "      <th>ts_code</th>\n",
       "      <th>symbol</th>\n",
       "      <th>name</th>\n",
       "      <th>industry</th>\n",
       "      <th>fullname</th>\n",
       "      <th>market</th>\n",
       "      <th>exchange</th>\n",
       "      <th>list_status</th>\n",
       "      <th>list_date</th>\n",
       "      <th>delist_date</th>\n",
       "      <th>...</th>\n",
       "      <th>office</th>\n",
       "      <th>website</th>\n",
       "      <th>setup_date</th>\n",
       "      <th>end_date</th>\n",
       "      <th>main_business</th>\n",
       "      <th>org_code</th>\n",
       "      <th>credit_code</th>\n",
       "      <th>label_manager</th>\n",
       "      <th>label_custodian</th>\n",
       "      <th>label</th>\n",
       "    </tr>\n",
       "  </thead>\n",
       "  <tbody>\n",
       "    <tr>\n",
       "      <th>0</th>\n",
       "      <td>000001.SZ</td>\n",
       "      <td>000001</td>\n",
       "      <td>平安银行</td>\n",
       "      <td>银行</td>\n",
       "      <td>平安银行股份有限公司</td>\n",
       "      <td>主板</td>\n",
       "      <td>SZSE</td>\n",
       "      <td>L</td>\n",
       "      <td>19910403.0</td>\n",
       "      <td>-1.0</td>\n",
       "      <td>...</td>\n",
       "      <td>NaN</td>\n",
       "      <td>NaN</td>\n",
       "      <td>NaN</td>\n",
       "      <td>NaN</td>\n",
       "      <td>NaN</td>\n",
       "      <td>NaN</td>\n",
       "      <td>NaN</td>\n",
       "      <td></td>\n",
       "      <td>FUND_CUSTODIAN</td>\n",
       "      <td>COMPANY;LISTED_COMPANY;FUND_CUSTODIAN</td>\n",
       "    </tr>\n",
       "    <tr>\n",
       "      <th>1</th>\n",
       "      <td>000002.SZ</td>\n",
       "      <td>000002</td>\n",
       "      <td>万科A</td>\n",
       "      <td>全国地产</td>\n",
       "      <td>万科企业股份有限公司</td>\n",
       "      <td>主板</td>\n",
       "      <td>SZSE</td>\n",
       "      <td>L</td>\n",
       "      <td>19910129.0</td>\n",
       "      <td>-1.0</td>\n",
       "      <td>...</td>\n",
       "      <td>NaN</td>\n",
       "      <td>NaN</td>\n",
       "      <td>NaN</td>\n",
       "      <td>NaN</td>\n",
       "      <td>NaN</td>\n",
       "      <td>NaN</td>\n",
       "      <td>NaN</td>\n",
       "      <td></td>\n",
       "      <td></td>\n",
       "      <td>COMPANY;LISTED_COMPANY</td>\n",
       "    </tr>\n",
       "    <tr>\n",
       "      <th>2</th>\n",
       "      <td>000004.SZ</td>\n",
       "      <td>000004</td>\n",
       "      <td>国农科技</td>\n",
       "      <td>生物制药</td>\n",
       "      <td>深圳中国农大科技股份有限公司</td>\n",
       "      <td>主板</td>\n",
       "      <td>SZSE</td>\n",
       "      <td>L</td>\n",
       "      <td>19910114.0</td>\n",
       "      <td>-1.0</td>\n",
       "      <td>...</td>\n",
       "      <td>NaN</td>\n",
       "      <td>NaN</td>\n",
       "      <td>NaN</td>\n",
       "      <td>NaN</td>\n",
       "      <td>NaN</td>\n",
       "      <td>NaN</td>\n",
       "      <td>NaN</td>\n",
       "      <td></td>\n",
       "      <td></td>\n",
       "      <td>COMPANY;LISTED_COMPANY</td>\n",
       "    </tr>\n",
       "    <tr>\n",
       "      <th>3</th>\n",
       "      <td>000005.SZ</td>\n",
       "      <td>000005</td>\n",
       "      <td>世纪星源</td>\n",
       "      <td>环境保护</td>\n",
       "      <td>深圳世纪星源股份有限公司</td>\n",
       "      <td>主板</td>\n",
       "      <td>SZSE</td>\n",
       "      <td>L</td>\n",
       "      <td>19901210.0</td>\n",
       "      <td>-1.0</td>\n",
       "      <td>...</td>\n",
       "      <td>NaN</td>\n",
       "      <td>NaN</td>\n",
       "      <td>NaN</td>\n",
       "      <td>NaN</td>\n",
       "      <td>NaN</td>\n",
       "      <td>NaN</td>\n",
       "      <td>NaN</td>\n",
       "      <td></td>\n",
       "      <td></td>\n",
       "      <td>COMPANY;LISTED_COMPANY</td>\n",
       "    </tr>\n",
       "    <tr>\n",
       "      <th>4</th>\n",
       "      <td>000006.SZ</td>\n",
       "      <td>000006</td>\n",
       "      <td>深振业A</td>\n",
       "      <td>区域地产</td>\n",
       "      <td>深圳市振业(集团)股份有限公司</td>\n",
       "      <td>主板</td>\n",
       "      <td>SZSE</td>\n",
       "      <td>L</td>\n",
       "      <td>19920427.0</td>\n",
       "      <td>-1.0</td>\n",
       "      <td>...</td>\n",
       "      <td>NaN</td>\n",
       "      <td>NaN</td>\n",
       "      <td>NaN</td>\n",
       "      <td>NaN</td>\n",
       "      <td>NaN</td>\n",
       "      <td>NaN</td>\n",
       "      <td>NaN</td>\n",
       "      <td></td>\n",
       "      <td></td>\n",
       "      <td>COMPANY;LISTED_COMPANY</td>\n",
       "    </tr>\n",
       "    <tr>\n",
       "      <th>5</th>\n",
       "      <td>000007.SZ</td>\n",
       "      <td>000007</td>\n",
       "      <td>全新好</td>\n",
       "      <td>酒店餐饮</td>\n",
       "      <td>深圳市全新好股份有限公司</td>\n",
       "      <td>主板</td>\n",
       "      <td>SZSE</td>\n",
       "      <td>L</td>\n",
       "      <td>19920413.0</td>\n",
       "      <td>-1.0</td>\n",
       "      <td>...</td>\n",
       "      <td>NaN</td>\n",
       "      <td>NaN</td>\n",
       "      <td>NaN</td>\n",
       "      <td>NaN</td>\n",
       "      <td>NaN</td>\n",
       "      <td>NaN</td>\n",
       "      <td>NaN</td>\n",
       "      <td></td>\n",
       "      <td></td>\n",
       "      <td>COMPANY;LISTED_COMPANY</td>\n",
       "    </tr>\n",
       "    <tr>\n",
       "      <th>6</th>\n",
       "      <td>000008.SZ</td>\n",
       "      <td>000008</td>\n",
       "      <td>神州高铁</td>\n",
       "      <td>运输设备</td>\n",
       "      <td>神州高铁技术股份有限公司</td>\n",
       "      <td>主板</td>\n",
       "      <td>SZSE</td>\n",
       "      <td>L</td>\n",
       "      <td>19920507.0</td>\n",
       "      <td>-1.0</td>\n",
       "      <td>...</td>\n",
       "      <td>NaN</td>\n",
       "      <td>NaN</td>\n",
       "      <td>NaN</td>\n",
       "      <td>NaN</td>\n",
       "      <td>NaN</td>\n",
       "      <td>NaN</td>\n",
       "      <td>NaN</td>\n",
       "      <td></td>\n",
       "      <td></td>\n",
       "      <td>COMPANY;LISTED_COMPANY</td>\n",
       "    </tr>\n",
       "    <tr>\n",
       "      <th>7</th>\n",
       "      <td>000009.SZ</td>\n",
       "      <td>000009</td>\n",
       "      <td>中国宝安</td>\n",
       "      <td>综合类</td>\n",
       "      <td>中国宝安集团股份有限公司</td>\n",
       "      <td>主板</td>\n",
       "      <td>SZSE</td>\n",
       "      <td>L</td>\n",
       "      <td>19910625.0</td>\n",
       "      <td>-1.0</td>\n",
       "      <td>...</td>\n",
       "      <td>NaN</td>\n",
       "      <td>NaN</td>\n",
       "      <td>NaN</td>\n",
       "      <td>NaN</td>\n",
       "      <td>NaN</td>\n",
       "      <td>NaN</td>\n",
       "      <td>NaN</td>\n",
       "      <td></td>\n",
       "      <td></td>\n",
       "      <td>COMPANY;LISTED_COMPANY</td>\n",
       "    </tr>\n",
       "    <tr>\n",
       "      <th>8</th>\n",
       "      <td>000010.SZ</td>\n",
       "      <td>000010</td>\n",
       "      <td>*ST美丽</td>\n",
       "      <td>建筑工程</td>\n",
       "      <td>深圳美丽生态股份有限公司</td>\n",
       "      <td>主板</td>\n",
       "      <td>SZSE</td>\n",
       "      <td>L</td>\n",
       "      <td>19951027.0</td>\n",
       "      <td>-1.0</td>\n",
       "      <td>...</td>\n",
       "      <td>NaN</td>\n",
       "      <td>NaN</td>\n",
       "      <td>NaN</td>\n",
       "      <td>NaN</td>\n",
       "      <td>NaN</td>\n",
       "      <td>NaN</td>\n",
       "      <td>NaN</td>\n",
       "      <td></td>\n",
       "      <td></td>\n",
       "      <td>COMPANY;LISTED_COMPANY</td>\n",
       "    </tr>\n",
       "    <tr>\n",
       "      <th>9</th>\n",
       "      <td>000011.SZ</td>\n",
       "      <td>000011</td>\n",
       "      <td>深物业A</td>\n",
       "      <td>区域地产</td>\n",
       "      <td>深圳市物业发展(集团)股份有限公司</td>\n",
       "      <td>主板</td>\n",
       "      <td>SZSE</td>\n",
       "      <td>L</td>\n",
       "      <td>19920330.0</td>\n",
       "      <td>-1.0</td>\n",
       "      <td>...</td>\n",
       "      <td>NaN</td>\n",
       "      <td>NaN</td>\n",
       "      <td>NaN</td>\n",
       "      <td>NaN</td>\n",
       "      <td>NaN</td>\n",
       "      <td>NaN</td>\n",
       "      <td>NaN</td>\n",
       "      <td></td>\n",
       "      <td></td>\n",
       "      <td>COMPANY;LISTED_COMPANY</td>\n",
       "    </tr>\n",
       "    <tr>\n",
       "      <th>10</th>\n",
       "      <td>000012.SZ</td>\n",
       "      <td>000012</td>\n",
       "      <td>南玻A</td>\n",
       "      <td>玻璃</td>\n",
       "      <td>中国南玻集团股份有限公司</td>\n",
       "      <td>主板</td>\n",
       "      <td>SZSE</td>\n",
       "      <td>L</td>\n",
       "      <td>19920228.0</td>\n",
       "      <td>-1.0</td>\n",
       "      <td>...</td>\n",
       "      <td>NaN</td>\n",
       "      <td>NaN</td>\n",
       "      <td>NaN</td>\n",
       "      <td>NaN</td>\n",
       "      <td>NaN</td>\n",
       "      <td>NaN</td>\n",
       "      <td>NaN</td>\n",
       "      <td></td>\n",
       "      <td></td>\n",
       "      <td>COMPANY;LISTED_COMPANY</td>\n",
       "    </tr>\n",
       "    <tr>\n",
       "      <th>11</th>\n",
       "      <td>000014.SZ</td>\n",
       "      <td>000014</td>\n",
       "      <td>沙河股份</td>\n",
       "      <td>全国地产</td>\n",
       "      <td>沙河实业股份有限公司</td>\n",
       "      <td>主板</td>\n",
       "      <td>SZSE</td>\n",
       "      <td>L</td>\n",
       "      <td>19920602.0</td>\n",
       "      <td>-1.0</td>\n",
       "      <td>...</td>\n",
       "      <td>NaN</td>\n",
       "      <td>NaN</td>\n",
       "      <td>NaN</td>\n",
       "      <td>NaN</td>\n",
       "      <td>NaN</td>\n",
       "      <td>NaN</td>\n",
       "      <td>NaN</td>\n",
       "      <td></td>\n",
       "      <td></td>\n",
       "      <td>COMPANY;LISTED_COMPANY</td>\n",
       "    </tr>\n",
       "    <tr>\n",
       "      <th>12</th>\n",
       "      <td>000016.SZ</td>\n",
       "      <td>000016</td>\n",
       "      <td>深康佳A</td>\n",
       "      <td>家用电器</td>\n",
       "      <td>康佳集团股份有限公司</td>\n",
       "      <td>主板</td>\n",
       "      <td>SZSE</td>\n",
       "      <td>L</td>\n",
       "      <td>19920327.0</td>\n",
       "      <td>-1.0</td>\n",
       "      <td>...</td>\n",
       "      <td>NaN</td>\n",
       "      <td>NaN</td>\n",
       "      <td>NaN</td>\n",
       "      <td>NaN</td>\n",
       "      <td>NaN</td>\n",
       "      <td>NaN</td>\n",
       "      <td>NaN</td>\n",
       "      <td></td>\n",
       "      <td></td>\n",
       "      <td>COMPANY;LISTED_COMPANY</td>\n",
       "    </tr>\n",
       "    <tr>\n",
       "      <th>13</th>\n",
       "      <td>000017.SZ</td>\n",
       "      <td>000017</td>\n",
       "      <td>深中华A</td>\n",
       "      <td>文教休闲</td>\n",
       "      <td>深圳中华自行车(集团)股份有限公司</td>\n",
       "      <td>主板</td>\n",
       "      <td>SZSE</td>\n",
       "      <td>L</td>\n",
       "      <td>19920331.0</td>\n",
       "      <td>-1.0</td>\n",
       "      <td>...</td>\n",
       "      <td>NaN</td>\n",
       "      <td>NaN</td>\n",
       "      <td>NaN</td>\n",
       "      <td>NaN</td>\n",
       "      <td>NaN</td>\n",
       "      <td>NaN</td>\n",
       "      <td>NaN</td>\n",
       "      <td></td>\n",
       "      <td></td>\n",
       "      <td>COMPANY;LISTED_COMPANY</td>\n",
       "    </tr>\n",
       "    <tr>\n",
       "      <th>14</th>\n",
       "      <td>000019.SZ</td>\n",
       "      <td>000019</td>\n",
       "      <td>深粮控股</td>\n",
       "      <td>其他商业</td>\n",
       "      <td>深圳市深粮控股股份有限公司</td>\n",
       "      <td>主板</td>\n",
       "      <td>SZSE</td>\n",
       "      <td>L</td>\n",
       "      <td>19921012.0</td>\n",
       "      <td>-1.0</td>\n",
       "      <td>...</td>\n",
       "      <td>NaN</td>\n",
       "      <td>NaN</td>\n",
       "      <td>NaN</td>\n",
       "      <td>NaN</td>\n",
       "      <td>NaN</td>\n",
       "      <td>NaN</td>\n",
       "      <td>NaN</td>\n",
       "      <td></td>\n",
       "      <td></td>\n",
       "      <td>COMPANY;LISTED_COMPANY</td>\n",
       "    </tr>\n",
       "    <tr>\n",
       "      <th>15</th>\n",
       "      <td>000020.SZ</td>\n",
       "      <td>000020</td>\n",
       "      <td>深华发A</td>\n",
       "      <td>元器件</td>\n",
       "      <td>深圳中恒华发股份有限公司</td>\n",
       "      <td>主板</td>\n",
       "      <td>SZSE</td>\n",
       "      <td>L</td>\n",
       "      <td>19920428.0</td>\n",
       "      <td>-1.0</td>\n",
       "      <td>...</td>\n",
       "      <td>NaN</td>\n",
       "      <td>NaN</td>\n",
       "      <td>NaN</td>\n",
       "      <td>NaN</td>\n",
       "      <td>NaN</td>\n",
       "      <td>NaN</td>\n",
       "      <td>NaN</td>\n",
       "      <td></td>\n",
       "      <td></td>\n",
       "      <td>COMPANY;LISTED_COMPANY</td>\n",
       "    </tr>\n",
       "    <tr>\n",
       "      <th>16</th>\n",
       "      <td>000021.SZ</td>\n",
       "      <td>000021</td>\n",
       "      <td>深科技</td>\n",
       "      <td>IT设备</td>\n",
       "      <td>深圳长城开发科技股份有限公司</td>\n",
       "      <td>主板</td>\n",
       "      <td>SZSE</td>\n",
       "      <td>L</td>\n",
       "      <td>19940202.0</td>\n",
       "      <td>-1.0</td>\n",
       "      <td>...</td>\n",
       "      <td>NaN</td>\n",
       "      <td>NaN</td>\n",
       "      <td>NaN</td>\n",
       "      <td>NaN</td>\n",
       "      <td>NaN</td>\n",
       "      <td>NaN</td>\n",
       "      <td>NaN</td>\n",
       "      <td></td>\n",
       "      <td></td>\n",
       "      <td>COMPANY;LISTED_COMPANY</td>\n",
       "    </tr>\n",
       "    <tr>\n",
       "      <th>17</th>\n",
       "      <td>000023.SZ</td>\n",
       "      <td>000023</td>\n",
       "      <td>深天地A</td>\n",
       "      <td>其他建材</td>\n",
       "      <td>深圳市天地(集团)股份有限公司</td>\n",
       "      <td>主板</td>\n",
       "      <td>SZSE</td>\n",
       "      <td>L</td>\n",
       "      <td>19930429.0</td>\n",
       "      <td>-1.0</td>\n",
       "      <td>...</td>\n",
       "      <td>NaN</td>\n",
       "      <td>NaN</td>\n",
       "      <td>NaN</td>\n",
       "      <td>NaN</td>\n",
       "      <td>NaN</td>\n",
       "      <td>NaN</td>\n",
       "      <td>NaN</td>\n",
       "      <td></td>\n",
       "      <td></td>\n",
       "      <td>COMPANY;LISTED_COMPANY</td>\n",
       "    </tr>\n",
       "    <tr>\n",
       "      <th>18</th>\n",
       "      <td>000025.SZ</td>\n",
       "      <td>000025</td>\n",
       "      <td>特力A</td>\n",
       "      <td>汽车服务</td>\n",
       "      <td>深圳市特力(集团)股份有限公司</td>\n",
       "      <td>主板</td>\n",
       "      <td>SZSE</td>\n",
       "      <td>L</td>\n",
       "      <td>19930621.0</td>\n",
       "      <td>-1.0</td>\n",
       "      <td>...</td>\n",
       "      <td>NaN</td>\n",
       "      <td>NaN</td>\n",
       "      <td>NaN</td>\n",
       "      <td>NaN</td>\n",
       "      <td>NaN</td>\n",
       "      <td>NaN</td>\n",
       "      <td>NaN</td>\n",
       "      <td></td>\n",
       "      <td></td>\n",
       "      <td>COMPANY;LISTED_COMPANY</td>\n",
       "    </tr>\n",
       "    <tr>\n",
       "      <th>19</th>\n",
       "      <td>000026.SZ</td>\n",
       "      <td>000026</td>\n",
       "      <td>飞亚达</td>\n",
       "      <td>其他商业</td>\n",
       "      <td>飞亚达精密科技股份有限公司</td>\n",
       "      <td>主板</td>\n",
       "      <td>SZSE</td>\n",
       "      <td>L</td>\n",
       "      <td>19930603.0</td>\n",
       "      <td>-1.0</td>\n",
       "      <td>...</td>\n",
       "      <td>NaN</td>\n",
       "      <td>NaN</td>\n",
       "      <td>NaN</td>\n",
       "      <td>NaN</td>\n",
       "      <td>NaN</td>\n",
       "      <td>NaN</td>\n",
       "      <td>NaN</td>\n",
       "      <td></td>\n",
       "      <td></td>\n",
       "      <td>COMPANY;LISTED_COMPANY</td>\n",
       "    </tr>\n",
       "    <tr>\n",
       "      <th>20</th>\n",
       "      <td>000027.SZ</td>\n",
       "      <td>000027</td>\n",
       "      <td>深圳能源</td>\n",
       "      <td>火力发电</td>\n",
       "      <td>深圳能源集团股份有限公司</td>\n",
       "      <td>主板</td>\n",
       "      <td>SZSE</td>\n",
       "      <td>L</td>\n",
       "      <td>19930903.0</td>\n",
       "      <td>-1.0</td>\n",
       "      <td>...</td>\n",
       "      <td>NaN</td>\n",
       "      <td>NaN</td>\n",
       "      <td>NaN</td>\n",
       "      <td>NaN</td>\n",
       "      <td>NaN</td>\n",
       "      <td>NaN</td>\n",
       "      <td>NaN</td>\n",
       "      <td></td>\n",
       "      <td></td>\n",
       "      <td>COMPANY;LISTED_COMPANY</td>\n",
       "    </tr>\n",
       "    <tr>\n",
       "      <th>21</th>\n",
       "      <td>000028.SZ</td>\n",
       "      <td>000028</td>\n",
       "      <td>国药一致</td>\n",
       "      <td>医药商业</td>\n",
       "      <td>国药集团一致药业股份有限公司</td>\n",
       "      <td>主板</td>\n",
       "      <td>SZSE</td>\n",
       "      <td>L</td>\n",
       "      <td>19930809.0</td>\n",
       "      <td>-1.0</td>\n",
       "      <td>...</td>\n",
       "      <td>NaN</td>\n",
       "      <td>NaN</td>\n",
       "      <td>NaN</td>\n",
       "      <td>NaN</td>\n",
       "      <td>NaN</td>\n",
       "      <td>NaN</td>\n",
       "      <td>NaN</td>\n",
       "      <td></td>\n",
       "      <td></td>\n",
       "      <td>COMPANY;LISTED_COMPANY</td>\n",
       "    </tr>\n",
       "    <tr>\n",
       "      <th>22</th>\n",
       "      <td>000029.SZ</td>\n",
       "      <td>000029</td>\n",
       "      <td>深深房A</td>\n",
       "      <td>区域地产</td>\n",
       "      <td>深圳经济特区房地产(集团)股份有限公司</td>\n",
       "      <td>主板</td>\n",
       "      <td>SZSE</td>\n",
       "      <td>L</td>\n",
       "      <td>19930915.0</td>\n",
       "      <td>-1.0</td>\n",
       "      <td>...</td>\n",
       "      <td>NaN</td>\n",
       "      <td>NaN</td>\n",
       "      <td>NaN</td>\n",
       "      <td>NaN</td>\n",
       "      <td>NaN</td>\n",
       "      <td>NaN</td>\n",
       "      <td>NaN</td>\n",
       "      <td></td>\n",
       "      <td></td>\n",
       "      <td>COMPANY;LISTED_COMPANY</td>\n",
       "    </tr>\n",
       "    <tr>\n",
       "      <th>23</th>\n",
       "      <td>000030.SZ</td>\n",
       "      <td>000030</td>\n",
       "      <td>富奥股份</td>\n",
       "      <td>汽车配件</td>\n",
       "      <td>富奥汽车零部件股份有限公司</td>\n",
       "      <td>主板</td>\n",
       "      <td>SZSE</td>\n",
       "      <td>L</td>\n",
       "      <td>19930929.0</td>\n",
       "      <td>-1.0</td>\n",
       "      <td>...</td>\n",
       "      <td>NaN</td>\n",
       "      <td>NaN</td>\n",
       "      <td>NaN</td>\n",
       "      <td>NaN</td>\n",
       "      <td>NaN</td>\n",
       "      <td>NaN</td>\n",
       "      <td>NaN</td>\n",
       "      <td></td>\n",
       "      <td></td>\n",
       "      <td>COMPANY;LISTED_COMPANY</td>\n",
       "    </tr>\n",
       "    <tr>\n",
       "      <th>24</th>\n",
       "      <td>000031.SZ</td>\n",
       "      <td>000031</td>\n",
       "      <td>大悦城</td>\n",
       "      <td>全国地产</td>\n",
       "      <td>大悦城控股集团股份有限公司</td>\n",
       "      <td>主板</td>\n",
       "      <td>SZSE</td>\n",
       "      <td>L</td>\n",
       "      <td>19931008.0</td>\n",
       "      <td>-1.0</td>\n",
       "      <td>...</td>\n",
       "      <td>NaN</td>\n",
       "      <td>NaN</td>\n",
       "      <td>NaN</td>\n",
       "      <td>NaN</td>\n",
       "      <td>NaN</td>\n",
       "      <td>NaN</td>\n",
       "      <td>NaN</td>\n",
       "      <td></td>\n",
       "      <td></td>\n",
       "      <td>COMPANY;LISTED_COMPANY</td>\n",
       "    </tr>\n",
       "    <tr>\n",
       "      <th>25</th>\n",
       "      <td>000032.SZ</td>\n",
       "      <td>000032</td>\n",
       "      <td>深桑达A</td>\n",
       "      <td>元器件</td>\n",
       "      <td>深圳市桑达实业股份有限公司</td>\n",
       "      <td>主板</td>\n",
       "      <td>SZSE</td>\n",
       "      <td>L</td>\n",
       "      <td>19931028.0</td>\n",
       "      <td>-1.0</td>\n",
       "      <td>...</td>\n",
       "      <td>NaN</td>\n",
       "      <td>NaN</td>\n",
       "      <td>NaN</td>\n",
       "      <td>NaN</td>\n",
       "      <td>NaN</td>\n",
       "      <td>NaN</td>\n",
       "      <td>NaN</td>\n",
       "      <td></td>\n",
       "      <td></td>\n",
       "      <td>COMPANY;LISTED_COMPANY</td>\n",
       "    </tr>\n",
       "    <tr>\n",
       "      <th>26</th>\n",
       "      <td>000034.SZ</td>\n",
       "      <td>000034</td>\n",
       "      <td>神州数码</td>\n",
       "      <td>综合类</td>\n",
       "      <td>神州数码集团股份有限公司</td>\n",
       "      <td>主板</td>\n",
       "      <td>SZSE</td>\n",
       "      <td>L</td>\n",
       "      <td>19940509.0</td>\n",
       "      <td>-1.0</td>\n",
       "      <td>...</td>\n",
       "      <td>NaN</td>\n",
       "      <td>NaN</td>\n",
       "      <td>NaN</td>\n",
       "      <td>NaN</td>\n",
       "      <td>NaN</td>\n",
       "      <td>NaN</td>\n",
       "      <td>NaN</td>\n",
       "      <td></td>\n",
       "      <td></td>\n",
       "      <td>COMPANY;LISTED_COMPANY</td>\n",
       "    </tr>\n",
       "    <tr>\n",
       "      <th>27</th>\n",
       "      <td>000035.SZ</td>\n",
       "      <td>000035</td>\n",
       "      <td>中国天楹</td>\n",
       "      <td>环境保护</td>\n",
       "      <td>中国天楹股份有限公司</td>\n",
       "      <td>主板</td>\n",
       "      <td>SZSE</td>\n",
       "      <td>L</td>\n",
       "      <td>19940408.0</td>\n",
       "      <td>-1.0</td>\n",
       "      <td>...</td>\n",
       "      <td>NaN</td>\n",
       "      <td>NaN</td>\n",
       "      <td>NaN</td>\n",
       "      <td>NaN</td>\n",
       "      <td>NaN</td>\n",
       "      <td>NaN</td>\n",
       "      <td>NaN</td>\n",
       "      <td></td>\n",
       "      <td></td>\n",
       "      <td>COMPANY;LISTED_COMPANY</td>\n",
       "    </tr>\n",
       "    <tr>\n",
       "      <th>28</th>\n",
       "      <td>000036.SZ</td>\n",
       "      <td>000036</td>\n",
       "      <td>华联控股</td>\n",
       "      <td>全国地产</td>\n",
       "      <td>华联控股股份有限公司</td>\n",
       "      <td>主板</td>\n",
       "      <td>SZSE</td>\n",
       "      <td>L</td>\n",
       "      <td>19940617.0</td>\n",
       "      <td>-1.0</td>\n",
       "      <td>...</td>\n",
       "      <td>NaN</td>\n",
       "      <td>NaN</td>\n",
       "      <td>NaN</td>\n",
       "      <td>NaN</td>\n",
       "      <td>NaN</td>\n",
       "      <td>NaN</td>\n",
       "      <td>NaN</td>\n",
       "      <td></td>\n",
       "      <td></td>\n",
       "      <td>COMPANY;LISTED_COMPANY</td>\n",
       "    </tr>\n",
       "    <tr>\n",
       "      <th>29</th>\n",
       "      <td>000037.SZ</td>\n",
       "      <td>000037</td>\n",
       "      <td>深南电A</td>\n",
       "      <td>火力发电</td>\n",
       "      <td>深圳南山热电股份有限公司</td>\n",
       "      <td>主板</td>\n",
       "      <td>SZSE</td>\n",
       "      <td>L</td>\n",
       "      <td>19940701.0</td>\n",
       "      <td>-1.0</td>\n",
       "      <td>...</td>\n",
       "      <td>NaN</td>\n",
       "      <td>NaN</td>\n",
       "      <td>NaN</td>\n",
       "      <td>NaN</td>\n",
       "      <td>NaN</td>\n",
       "      <td>NaN</td>\n",
       "      <td>NaN</td>\n",
       "      <td></td>\n",
       "      <td></td>\n",
       "      <td>COMPANY;LISTED_COMPANY</td>\n",
       "    </tr>\n",
       "    <tr>\n",
       "      <th>...</th>\n",
       "      <td>...</td>\n",
       "      <td>...</td>\n",
       "      <td>...</td>\n",
       "      <td>...</td>\n",
       "      <td>...</td>\n",
       "      <td>...</td>\n",
       "      <td>...</td>\n",
       "      <td>...</td>\n",
       "      <td>...</td>\n",
       "      <td>...</td>\n",
       "      <td>...</td>\n",
       "      <td>...</td>\n",
       "      <td>...</td>\n",
       "      <td>...</td>\n",
       "      <td>...</td>\n",
       "      <td>...</td>\n",
       "      <td>...</td>\n",
       "      <td>...</td>\n",
       "      <td>...</td>\n",
       "      <td>...</td>\n",
       "      <td>...</td>\n",
       "    </tr>\n",
       "    <tr>\n",
       "      <th>18964</th>\n",
       "      <td>NaN</td>\n",
       "      <td>NaN</td>\n",
       "      <td>华民君联资本</td>\n",
       "      <td>NaN</td>\n",
       "      <td>华民君联资本投资有限公司</td>\n",
       "      <td>NaN</td>\n",
       "      <td>NaN</td>\n",
       "      <td>NaN</td>\n",
       "      <td>NaN</td>\n",
       "      <td>NaN</td>\n",
       "      <td>...</td>\n",
       "      <td>北京市光华东里8号中海广场南楼11层</td>\n",
       "      <td>www.hmjlfund.com</td>\n",
       "      <td>20121226.0</td>\n",
       "      <td>-1.0</td>\n",
       "      <td>NaN</td>\n",
       "      <td>058723930</td>\n",
       "      <td>NaN</td>\n",
       "      <td>FUND_MANAGER</td>\n",
       "      <td></td>\n",
       "      <td>COMPANY;FUND_MANAGER</td>\n",
       "    </tr>\n",
       "    <tr>\n",
       "      <th>18965</th>\n",
       "      <td>NaN</td>\n",
       "      <td>NaN</td>\n",
       "      <td>杭州千鹰</td>\n",
       "      <td>NaN</td>\n",
       "      <td>杭州千鹰展翼投资管理有限公司</td>\n",
       "      <td>NaN</td>\n",
       "      <td>NaN</td>\n",
       "      <td>NaN</td>\n",
       "      <td>NaN</td>\n",
       "      <td>NaN</td>\n",
       "      <td>...</td>\n",
       "      <td>浙江省杭州市滨江区长河街道江汉路1785号网新双城大厦3幢701室-7</td>\n",
       "      <td>NaN</td>\n",
       "      <td>20160125.0</td>\n",
       "      <td>-1.0</td>\n",
       "      <td>NaN</td>\n",
       "      <td>NaN</td>\n",
       "      <td>91330108MA27WT3MXK</td>\n",
       "      <td>FUND_MANAGER</td>\n",
       "      <td></td>\n",
       "      <td>COMPANY;FUND_MANAGER</td>\n",
       "    </tr>\n",
       "    <tr>\n",
       "      <th>18966</th>\n",
       "      <td>NaN</td>\n",
       "      <td>NaN</td>\n",
       "      <td>永拓投资</td>\n",
       "      <td>NaN</td>\n",
       "      <td>江苏永拓投资管理有限公司</td>\n",
       "      <td>NaN</td>\n",
       "      <td>NaN</td>\n",
       "      <td>NaN</td>\n",
       "      <td>NaN</td>\n",
       "      <td>NaN</td>\n",
       "      <td>...</td>\n",
       "      <td>江苏省南京市雨花台区经济开发区凤汇大道37号</td>\n",
       "      <td>NaN</td>\n",
       "      <td>20111104.0</td>\n",
       "      <td>-1.0</td>\n",
       "      <td>NaN</td>\n",
       "      <td>585055794</td>\n",
       "      <td>91320115585055794D</td>\n",
       "      <td>FUND_MANAGER</td>\n",
       "      <td></td>\n",
       "      <td>COMPANY;FUND_MANAGER</td>\n",
       "    </tr>\n",
       "    <tr>\n",
       "      <th>18967</th>\n",
       "      <td>NaN</td>\n",
       "      <td>NaN</td>\n",
       "      <td>和泽资产</td>\n",
       "      <td>NaN</td>\n",
       "      <td>深圳和泽资产管理有限公司</td>\n",
       "      <td>NaN</td>\n",
       "      <td>NaN</td>\n",
       "      <td>NaN</td>\n",
       "      <td>NaN</td>\n",
       "      <td>NaN</td>\n",
       "      <td>...</td>\n",
       "      <td>广东省惠州市惠城区江北华贸大厦1号楼805室</td>\n",
       "      <td>NaN</td>\n",
       "      <td>20151204.0</td>\n",
       "      <td>-1.0</td>\n",
       "      <td>NaN</td>\n",
       "      <td>359449509</td>\n",
       "      <td>914403003594495095</td>\n",
       "      <td>FUND_MANAGER</td>\n",
       "      <td></td>\n",
       "      <td>COMPANY;FUND_MANAGER</td>\n",
       "    </tr>\n",
       "    <tr>\n",
       "      <th>18968</th>\n",
       "      <td>NaN</td>\n",
       "      <td>NaN</td>\n",
       "      <td>柒福投资</td>\n",
       "      <td>NaN</td>\n",
       "      <td>深圳市柒福投资有限公司</td>\n",
       "      <td>NaN</td>\n",
       "      <td>NaN</td>\n",
       "      <td>NaN</td>\n",
       "      <td>NaN</td>\n",
       "      <td>NaN</td>\n",
       "      <td>...</td>\n",
       "      <td>广东省深圳市福田区中康路8号雕塑家园927</td>\n",
       "      <td>www.szqftz.com</td>\n",
       "      <td>20080417.0</td>\n",
       "      <td>-1.0</td>\n",
       "      <td>NaN</td>\n",
       "      <td>672996584</td>\n",
       "      <td>NaN</td>\n",
       "      <td>FUND_MANAGER</td>\n",
       "      <td></td>\n",
       "      <td>COMPANY;FUND_MANAGER</td>\n",
       "    </tr>\n",
       "    <tr>\n",
       "      <th>18969</th>\n",
       "      <td>NaN</td>\n",
       "      <td>NaN</td>\n",
       "      <td>景涵财务咨询</td>\n",
       "      <td>NaN</td>\n",
       "      <td>西安景涵财务咨询合伙企业(有限合伙)</td>\n",
       "      <td>NaN</td>\n",
       "      <td>NaN</td>\n",
       "      <td>NaN</td>\n",
       "      <td>NaN</td>\n",
       "      <td>NaN</td>\n",
       "      <td>...</td>\n",
       "      <td>陕西省西安市高新区高新路88号6幢1单元12307室</td>\n",
       "      <td>NaN</td>\n",
       "      <td>20150114.0</td>\n",
       "      <td>-1.0</td>\n",
       "      <td>NaN</td>\n",
       "      <td>322319524</td>\n",
       "      <td>NaN</td>\n",
       "      <td>FUND_MANAGER</td>\n",
       "      <td></td>\n",
       "      <td>COMPANY;FUND_MANAGER</td>\n",
       "    </tr>\n",
       "    <tr>\n",
       "      <th>18970</th>\n",
       "      <td>NaN</td>\n",
       "      <td>NaN</td>\n",
       "      <td>合德丰泰投资</td>\n",
       "      <td>NaN</td>\n",
       "      <td>北京合德丰泰投资顾问有限公司</td>\n",
       "      <td>NaN</td>\n",
       "      <td>NaN</td>\n",
       "      <td>NaN</td>\n",
       "      <td>NaN</td>\n",
       "      <td>NaN</td>\n",
       "      <td>...</td>\n",
       "      <td>北京市朝阳区富力城b2-902</td>\n",
       "      <td>NaN</td>\n",
       "      <td>20071217.0</td>\n",
       "      <td>-1.0</td>\n",
       "      <td>NaN</td>\n",
       "      <td>669922912</td>\n",
       "      <td>NaN</td>\n",
       "      <td>FUND_MANAGER</td>\n",
       "      <td></td>\n",
       "      <td>COMPANY;FUND_MANAGER</td>\n",
       "    </tr>\n",
       "    <tr>\n",
       "      <th>18971</th>\n",
       "      <td>NaN</td>\n",
       "      <td>NaN</td>\n",
       "      <td>兆顺投资</td>\n",
       "      <td>NaN</td>\n",
       "      <td>上海兆顺投资有限公司</td>\n",
       "      <td>NaN</td>\n",
       "      <td>NaN</td>\n",
       "      <td>NaN</td>\n",
       "      <td>NaN</td>\n",
       "      <td>NaN</td>\n",
       "      <td>...</td>\n",
       "      <td>上海市长宁区古北路666号2103B室</td>\n",
       "      <td>www.zhaoshuncapital.com</td>\n",
       "      <td>20131225.0</td>\n",
       "      <td>-1.0</td>\n",
       "      <td>NaN</td>\n",
       "      <td>086229059</td>\n",
       "      <td>NaN</td>\n",
       "      <td>FUND_MANAGER</td>\n",
       "      <td></td>\n",
       "      <td>COMPANY;FUND_MANAGER</td>\n",
       "    </tr>\n",
       "    <tr>\n",
       "      <th>18972</th>\n",
       "      <td>NaN</td>\n",
       "      <td>NaN</td>\n",
       "      <td>上善若水投资</td>\n",
       "      <td>NaN</td>\n",
       "      <td>深圳市上善若水投资合伙企业(有限合伙)</td>\n",
       "      <td>NaN</td>\n",
       "      <td>NaN</td>\n",
       "      <td>NaN</td>\n",
       "      <td>NaN</td>\n",
       "      <td>NaN</td>\n",
       "      <td>...</td>\n",
       "      <td>广东省深圳市宝安区新安街道宝兴路西侧万骏经贸大厦第1栋十五层1513室</td>\n",
       "      <td>NaN</td>\n",
       "      <td>20111221.0</td>\n",
       "      <td>-1.0</td>\n",
       "      <td>NaN</td>\n",
       "      <td>587919314</td>\n",
       "      <td>NaN</td>\n",
       "      <td>FUND_MANAGER</td>\n",
       "      <td></td>\n",
       "      <td>COMPANY;FUND_MANAGER</td>\n",
       "    </tr>\n",
       "    <tr>\n",
       "      <th>18973</th>\n",
       "      <td>NaN</td>\n",
       "      <td>NaN</td>\n",
       "      <td>元沣资产</td>\n",
       "      <td>NaN</td>\n",
       "      <td>元沣(深圳)资产管理有限公司</td>\n",
       "      <td>NaN</td>\n",
       "      <td>NaN</td>\n",
       "      <td>NaN</td>\n",
       "      <td>NaN</td>\n",
       "      <td>NaN</td>\n",
       "      <td>...</td>\n",
       "      <td>广东省广州市天河区华夏路28号富力盈信大厦2510室</td>\n",
       "      <td>NaN</td>\n",
       "      <td>20151019.0</td>\n",
       "      <td>-1.0</td>\n",
       "      <td>NaN</td>\n",
       "      <td>359266729</td>\n",
       "      <td>914403003592667297</td>\n",
       "      <td>FUND_MANAGER</td>\n",
       "      <td></td>\n",
       "      <td>COMPANY;FUND_MANAGER</td>\n",
       "    </tr>\n",
       "    <tr>\n",
       "      <th>18974</th>\n",
       "      <td>NaN</td>\n",
       "      <td>NaN</td>\n",
       "      <td>寓隆资产</td>\n",
       "      <td>NaN</td>\n",
       "      <td>北京寓隆资产管理有限公司</td>\n",
       "      <td>NaN</td>\n",
       "      <td>NaN</td>\n",
       "      <td>NaN</td>\n",
       "      <td>NaN</td>\n",
       "      <td>NaN</td>\n",
       "      <td>...</td>\n",
       "      <td>北京市海淀区碧桐园小区4-409</td>\n",
       "      <td>www.ylzc.cn.com</td>\n",
       "      <td>20151203.0</td>\n",
       "      <td>-1.0</td>\n",
       "      <td>NaN</td>\n",
       "      <td>MA0028QK9</td>\n",
       "      <td>91110105MA0028QK90</td>\n",
       "      <td>FUND_MANAGER</td>\n",
       "      <td></td>\n",
       "      <td>COMPANY;FUND_MANAGER</td>\n",
       "    </tr>\n",
       "    <tr>\n",
       "      <th>18975</th>\n",
       "      <td>NaN</td>\n",
       "      <td>NaN</td>\n",
       "      <td>百合投资</td>\n",
       "      <td>NaN</td>\n",
       "      <td>深圳市前海百合投资管理有限公司</td>\n",
       "      <td>NaN</td>\n",
       "      <td>NaN</td>\n",
       "      <td>NaN</td>\n",
       "      <td>NaN</td>\n",
       "      <td>NaN</td>\n",
       "      <td>...</td>\n",
       "      <td>广东省深圳市前海深港合作区前湾一路1号A栋201室</td>\n",
       "      <td>NaN</td>\n",
       "      <td>20141218.0</td>\n",
       "      <td>-1.0</td>\n",
       "      <td>NaN</td>\n",
       "      <td>319737477</td>\n",
       "      <td>NaN</td>\n",
       "      <td>FUND_MANAGER</td>\n",
       "      <td></td>\n",
       "      <td>COMPANY;FUND_MANAGER</td>\n",
       "    </tr>\n",
       "    <tr>\n",
       "      <th>18976</th>\n",
       "      <td>NaN</td>\n",
       "      <td>NaN</td>\n",
       "      <td>弘德隆盛投资</td>\n",
       "      <td>NaN</td>\n",
       "      <td>广州弘德隆盛投资管理有限责任公司</td>\n",
       "      <td>NaN</td>\n",
       "      <td>NaN</td>\n",
       "      <td>NaN</td>\n",
       "      <td>NaN</td>\n",
       "      <td>NaN</td>\n",
       "      <td>...</td>\n",
       "      <td>广东省广州市天河区珠江西路08号1001房之自编03A单元</td>\n",
       "      <td>NaN</td>\n",
       "      <td>20101022.0</td>\n",
       "      <td>-1.0</td>\n",
       "      <td>NaN</td>\n",
       "      <td>563958570</td>\n",
       "      <td>91440106563958570X</td>\n",
       "      <td>FUND_MANAGER</td>\n",
       "      <td></td>\n",
       "      <td>COMPANY;FUND_MANAGER</td>\n",
       "    </tr>\n",
       "    <tr>\n",
       "      <th>18977</th>\n",
       "      <td>NaN</td>\n",
       "      <td>NaN</td>\n",
       "      <td>惠鸿禾投资</td>\n",
       "      <td>NaN</td>\n",
       "      <td>江苏惠鸿禾投资管理有限公司</td>\n",
       "      <td>NaN</td>\n",
       "      <td>NaN</td>\n",
       "      <td>NaN</td>\n",
       "      <td>NaN</td>\n",
       "      <td>NaN</td>\n",
       "      <td>...</td>\n",
       "      <td>江苏省南京市建邺区广聚路31号安科大厦1505室</td>\n",
       "      <td>NaN</td>\n",
       "      <td>20150813.0</td>\n",
       "      <td>-1.0</td>\n",
       "      <td>NaN</td>\n",
       "      <td>339437455</td>\n",
       "      <td>91320105339437455W</td>\n",
       "      <td>FUND_MANAGER</td>\n",
       "      <td></td>\n",
       "      <td>COMPANY;FUND_MANAGER</td>\n",
       "    </tr>\n",
       "    <tr>\n",
       "      <th>18978</th>\n",
       "      <td>NaN</td>\n",
       "      <td>NaN</td>\n",
       "      <td>今日投资</td>\n",
       "      <td>NaN</td>\n",
       "      <td>今日投资管理(深圳)有限公司</td>\n",
       "      <td>NaN</td>\n",
       "      <td>NaN</td>\n",
       "      <td>NaN</td>\n",
       "      <td>NaN</td>\n",
       "      <td>NaN</td>\n",
       "      <td>...</td>\n",
       "      <td>广东省深圳市南山区深南大道10188号新豪方大厦11B</td>\n",
       "      <td>NaN</td>\n",
       "      <td>20160421.0</td>\n",
       "      <td>-1.0</td>\n",
       "      <td>NaN</td>\n",
       "      <td>MA5DB6HU8</td>\n",
       "      <td>91440300MA5DB6HU8P</td>\n",
       "      <td>FUND_MANAGER</td>\n",
       "      <td></td>\n",
       "      <td>COMPANY;FUND_MANAGER</td>\n",
       "    </tr>\n",
       "    <tr>\n",
       "      <th>18979</th>\n",
       "      <td>NaN</td>\n",
       "      <td>NaN</td>\n",
       "      <td>汇添盈投资</td>\n",
       "      <td>NaN</td>\n",
       "      <td>昆山汇添盈投资管理有限公司</td>\n",
       "      <td>NaN</td>\n",
       "      <td>NaN</td>\n",
       "      <td>NaN</td>\n",
       "      <td>NaN</td>\n",
       "      <td>NaN</td>\n",
       "      <td>...</td>\n",
       "      <td>江苏省苏州市昆山市前进西路300号中茵世贸广场商务写字楼909室</td>\n",
       "      <td>NaN</td>\n",
       "      <td>20161212.0</td>\n",
       "      <td>-1.0</td>\n",
       "      <td>NaN</td>\n",
       "      <td>MA1N30QQ4</td>\n",
       "      <td>91320583MA1N30QQ4P</td>\n",
       "      <td>FUND_MANAGER</td>\n",
       "      <td></td>\n",
       "      <td>COMPANY;FUND_MANAGER</td>\n",
       "    </tr>\n",
       "    <tr>\n",
       "      <th>18980</th>\n",
       "      <td>NaN</td>\n",
       "      <td>NaN</td>\n",
       "      <td>平安基金</td>\n",
       "      <td>NaN</td>\n",
       "      <td>平安基金管理有限公司</td>\n",
       "      <td>NaN</td>\n",
       "      <td>NaN</td>\n",
       "      <td>NaN</td>\n",
       "      <td>NaN</td>\n",
       "      <td>NaN</td>\n",
       "      <td>...</td>\n",
       "      <td>NaN</td>\n",
       "      <td>NaN</td>\n",
       "      <td>NaN</td>\n",
       "      <td>NaN</td>\n",
       "      <td>NaN</td>\n",
       "      <td>NaN</td>\n",
       "      <td>NaN</td>\n",
       "      <td>FUND_MANAGER</td>\n",
       "      <td></td>\n",
       "      <td>COMPANY;FUND_MANAGER</td>\n",
       "    </tr>\n",
       "    <tr>\n",
       "      <th>18981</th>\n",
       "      <td>NaN</td>\n",
       "      <td>NaN</td>\n",
       "      <td>东证资管</td>\n",
       "      <td>NaN</td>\n",
       "      <td>东方证券资产管理有限公司</td>\n",
       "      <td>NaN</td>\n",
       "      <td>NaN</td>\n",
       "      <td>NaN</td>\n",
       "      <td>NaN</td>\n",
       "      <td>NaN</td>\n",
       "      <td>...</td>\n",
       "      <td>NaN</td>\n",
       "      <td>NaN</td>\n",
       "      <td>NaN</td>\n",
       "      <td>NaN</td>\n",
       "      <td>NaN</td>\n",
       "      <td>NaN</td>\n",
       "      <td>NaN</td>\n",
       "      <td>FUND_MANAGER</td>\n",
       "      <td></td>\n",
       "      <td>COMPANY;FUND_MANAGER</td>\n",
       "    </tr>\n",
       "    <tr>\n",
       "      <th>18982</th>\n",
       "      <td>NaN</td>\n",
       "      <td>NaN</td>\n",
       "      <td>华泰证券资管</td>\n",
       "      <td>NaN</td>\n",
       "      <td>华华泰证券资产管理公司</td>\n",
       "      <td>NaN</td>\n",
       "      <td>NaN</td>\n",
       "      <td>NaN</td>\n",
       "      <td>NaN</td>\n",
       "      <td>NaN</td>\n",
       "      <td>...</td>\n",
       "      <td>NaN</td>\n",
       "      <td>NaN</td>\n",
       "      <td>NaN</td>\n",
       "      <td>NaN</td>\n",
       "      <td>NaN</td>\n",
       "      <td>NaN</td>\n",
       "      <td>NaN</td>\n",
       "      <td>FUND_MANAGER</td>\n",
       "      <td></td>\n",
       "      <td>COMPANY;FUND_MANAGER</td>\n",
       "    </tr>\n",
       "    <tr>\n",
       "      <th>18983</th>\n",
       "      <td>NaN</td>\n",
       "      <td>NaN</td>\n",
       "      <td>西藏东财基金</td>\n",
       "      <td>NaN</td>\n",
       "      <td>西藏东财基金管理有限公司</td>\n",
       "      <td>NaN</td>\n",
       "      <td>NaN</td>\n",
       "      <td>NaN</td>\n",
       "      <td>NaN</td>\n",
       "      <td>NaN</td>\n",
       "      <td>...</td>\n",
       "      <td>NaN</td>\n",
       "      <td>NaN</td>\n",
       "      <td>NaN</td>\n",
       "      <td>NaN</td>\n",
       "      <td>NaN</td>\n",
       "      <td>NaN</td>\n",
       "      <td>NaN</td>\n",
       "      <td>FUND_MANAGER</td>\n",
       "      <td></td>\n",
       "      <td>COMPANY;FUND_MANAGER</td>\n",
       "    </tr>\n",
       "    <tr>\n",
       "      <th>18984</th>\n",
       "      <td>NaN</td>\n",
       "      <td>NaN</td>\n",
       "      <td>中泰资管</td>\n",
       "      <td>NaN</td>\n",
       "      <td>中泰证券（上海）资产管理有限公司</td>\n",
       "      <td>NaN</td>\n",
       "      <td>NaN</td>\n",
       "      <td>NaN</td>\n",
       "      <td>NaN</td>\n",
       "      <td>NaN</td>\n",
       "      <td>...</td>\n",
       "      <td>NaN</td>\n",
       "      <td>NaN</td>\n",
       "      <td>NaN</td>\n",
       "      <td>NaN</td>\n",
       "      <td>NaN</td>\n",
       "      <td>NaN</td>\n",
       "      <td>NaN</td>\n",
       "      <td>FUND_MANAGER</td>\n",
       "      <td></td>\n",
       "      <td>COMPANY;FUND_MANAGER</td>\n",
       "    </tr>\n",
       "    <tr>\n",
       "      <th>18985</th>\n",
       "      <td>NaN</td>\n",
       "      <td>NaN</td>\n",
       "      <td>同泰基金</td>\n",
       "      <td>NaN</td>\n",
       "      <td>同泰基金管理有限公司</td>\n",
       "      <td>NaN</td>\n",
       "      <td>NaN</td>\n",
       "      <td>NaN</td>\n",
       "      <td>NaN</td>\n",
       "      <td>NaN</td>\n",
       "      <td>...</td>\n",
       "      <td>NaN</td>\n",
       "      <td>NaN</td>\n",
       "      <td>NaN</td>\n",
       "      <td>NaN</td>\n",
       "      <td>NaN</td>\n",
       "      <td>NaN</td>\n",
       "      <td>NaN</td>\n",
       "      <td>FUND_MANAGER</td>\n",
       "      <td></td>\n",
       "      <td>COMPANY;FUND_MANAGER</td>\n",
       "    </tr>\n",
       "    <tr>\n",
       "      <th>18986</th>\n",
       "      <td>NaN</td>\n",
       "      <td>NaN</td>\n",
       "      <td>惠升基金</td>\n",
       "      <td>NaN</td>\n",
       "      <td>惠升基金管理有限公司</td>\n",
       "      <td>NaN</td>\n",
       "      <td>NaN</td>\n",
       "      <td>NaN</td>\n",
       "      <td>NaN</td>\n",
       "      <td>NaN</td>\n",
       "      <td>...</td>\n",
       "      <td>NaN</td>\n",
       "      <td>NaN</td>\n",
       "      <td>NaN</td>\n",
       "      <td>NaN</td>\n",
       "      <td>NaN</td>\n",
       "      <td>NaN</td>\n",
       "      <td>NaN</td>\n",
       "      <td>FUND_MANAGER</td>\n",
       "      <td></td>\n",
       "      <td>COMPANY;FUND_MANAGER</td>\n",
       "    </tr>\n",
       "    <tr>\n",
       "      <th>18987</th>\n",
       "      <td>NaN</td>\n",
       "      <td>NaN</td>\n",
       "      <td>朱雀基金</td>\n",
       "      <td>NaN</td>\n",
       "      <td>朱雀基金管理有限公司</td>\n",
       "      <td>NaN</td>\n",
       "      <td>NaN</td>\n",
       "      <td>NaN</td>\n",
       "      <td>NaN</td>\n",
       "      <td>NaN</td>\n",
       "      <td>...</td>\n",
       "      <td>NaN</td>\n",
       "      <td>NaN</td>\n",
       "      <td>NaN</td>\n",
       "      <td>NaN</td>\n",
       "      <td>NaN</td>\n",
       "      <td>NaN</td>\n",
       "      <td>NaN</td>\n",
       "      <td>FUND_MANAGER</td>\n",
       "      <td></td>\n",
       "      <td>COMPANY;FUND_MANAGER</td>\n",
       "    </tr>\n",
       "    <tr>\n",
       "      <th>18988</th>\n",
       "      <td>NaN</td>\n",
       "      <td>NaN</td>\n",
       "      <td>淳厚基金</td>\n",
       "      <td>NaN</td>\n",
       "      <td>淳厚基金管理有限公司</td>\n",
       "      <td>NaN</td>\n",
       "      <td>NaN</td>\n",
       "      <td>NaN</td>\n",
       "      <td>NaN</td>\n",
       "      <td>NaN</td>\n",
       "      <td>...</td>\n",
       "      <td>NaN</td>\n",
       "      <td>NaN</td>\n",
       "      <td>NaN</td>\n",
       "      <td>NaN</td>\n",
       "      <td>NaN</td>\n",
       "      <td>NaN</td>\n",
       "      <td>NaN</td>\n",
       "      <td>FUND_MANAGER</td>\n",
       "      <td></td>\n",
       "      <td>COMPANY;FUND_MANAGER</td>\n",
       "    </tr>\n",
       "    <tr>\n",
       "      <th>18989</th>\n",
       "      <td>NaN</td>\n",
       "      <td>NaN</td>\n",
       "      <td>博远基金</td>\n",
       "      <td>NaN</td>\n",
       "      <td>博远基金管理有限公司</td>\n",
       "      <td>NaN</td>\n",
       "      <td>NaN</td>\n",
       "      <td>NaN</td>\n",
       "      <td>NaN</td>\n",
       "      <td>NaN</td>\n",
       "      <td>...</td>\n",
       "      <td>NaN</td>\n",
       "      <td>NaN</td>\n",
       "      <td>NaN</td>\n",
       "      <td>NaN</td>\n",
       "      <td>NaN</td>\n",
       "      <td>NaN</td>\n",
       "      <td>NaN</td>\n",
       "      <td>FUND_MANAGER</td>\n",
       "      <td></td>\n",
       "      <td>COMPANY;FUND_MANAGER</td>\n",
       "    </tr>\n",
       "    <tr>\n",
       "      <th>18990</th>\n",
       "      <td>NaN</td>\n",
       "      <td>NaN</td>\n",
       "      <td>睿远基金</td>\n",
       "      <td>NaN</td>\n",
       "      <td>睿远基金管理有限公司</td>\n",
       "      <td>NaN</td>\n",
       "      <td>NaN</td>\n",
       "      <td>NaN</td>\n",
       "      <td>NaN</td>\n",
       "      <td>NaN</td>\n",
       "      <td>...</td>\n",
       "      <td>NaN</td>\n",
       "      <td>NaN</td>\n",
       "      <td>NaN</td>\n",
       "      <td>NaN</td>\n",
       "      <td>NaN</td>\n",
       "      <td>NaN</td>\n",
       "      <td>NaN</td>\n",
       "      <td>FUND_MANAGER</td>\n",
       "      <td></td>\n",
       "      <td>COMPANY;FUND_MANAGER</td>\n",
       "    </tr>\n",
       "    <tr>\n",
       "      <th>18991</th>\n",
       "      <td>NaN</td>\n",
       "      <td>NaN</td>\n",
       "      <td>华融基金</td>\n",
       "      <td>NaN</td>\n",
       "      <td>华融基金管理有限公司</td>\n",
       "      <td>NaN</td>\n",
       "      <td>NaN</td>\n",
       "      <td>NaN</td>\n",
       "      <td>NaN</td>\n",
       "      <td>NaN</td>\n",
       "      <td>...</td>\n",
       "      <td>NaN</td>\n",
       "      <td>NaN</td>\n",
       "      <td>NaN</td>\n",
       "      <td>NaN</td>\n",
       "      <td>NaN</td>\n",
       "      <td>NaN</td>\n",
       "      <td>NaN</td>\n",
       "      <td>FUND_MANAGER</td>\n",
       "      <td></td>\n",
       "      <td>COMPANY;FUND_MANAGER</td>\n",
       "    </tr>\n",
       "    <tr>\n",
       "      <th>18992</th>\n",
       "      <td>NaN</td>\n",
       "      <td>NaN</td>\n",
       "      <td>广发银行</td>\n",
       "      <td>NaN</td>\n",
       "      <td>广发银行股份有限公司</td>\n",
       "      <td>NaN</td>\n",
       "      <td>NaN</td>\n",
       "      <td>NaN</td>\n",
       "      <td>NaN</td>\n",
       "      <td>NaN</td>\n",
       "      <td>...</td>\n",
       "      <td>NaN</td>\n",
       "      <td>NaN</td>\n",
       "      <td>NaN</td>\n",
       "      <td>NaN</td>\n",
       "      <td>NaN</td>\n",
       "      <td>NaN</td>\n",
       "      <td>NaN</td>\n",
       "      <td></td>\n",
       "      <td>FUND_CUSTODIAN</td>\n",
       "      <td>COMPANY;FUND_CUSTODIAN</td>\n",
       "    </tr>\n",
       "    <tr>\n",
       "      <th>18993</th>\n",
       "      <td>NaN</td>\n",
       "      <td>NaN</td>\n",
       "      <td>恒丰银行</td>\n",
       "      <td>NaN</td>\n",
       "      <td>恒丰银行股份有限公司</td>\n",
       "      <td>NaN</td>\n",
       "      <td>NaN</td>\n",
       "      <td>NaN</td>\n",
       "      <td>NaN</td>\n",
       "      <td>NaN</td>\n",
       "      <td>...</td>\n",
       "      <td>NaN</td>\n",
       "      <td>NaN</td>\n",
       "      <td>NaN</td>\n",
       "      <td>NaN</td>\n",
       "      <td>NaN</td>\n",
       "      <td>NaN</td>\n",
       "      <td>NaN</td>\n",
       "      <td></td>\n",
       "      <td>FUND_CUSTODIAN</td>\n",
       "      <td>COMPANY;FUND_CUSTODIAN</td>\n",
       "    </tr>\n",
       "  </tbody>\n",
       "</table>\n",
       "<p>18994 rows × 24 columns</p>\n",
       "</div>"
      ],
      "text/plain": [
       "         ts_code  symbol    name industry             fullname market  \\\n",
       "0      000001.SZ  000001    平安银行       银行           平安银行股份有限公司     主板   \n",
       "1      000002.SZ  000002     万科A     全国地产           万科企业股份有限公司     主板   \n",
       "2      000004.SZ  000004    国农科技     生物制药       深圳中国农大科技股份有限公司     主板   \n",
       "3      000005.SZ  000005    世纪星源     环境保护         深圳世纪星源股份有限公司     主板   \n",
       "4      000006.SZ  000006    深振业A     区域地产      深圳市振业(集团)股份有限公司     主板   \n",
       "5      000007.SZ  000007     全新好     酒店餐饮         深圳市全新好股份有限公司     主板   \n",
       "6      000008.SZ  000008    神州高铁     运输设备         神州高铁技术股份有限公司     主板   \n",
       "7      000009.SZ  000009    中国宝安      综合类         中国宝安集团股份有限公司     主板   \n",
       "8      000010.SZ  000010   *ST美丽     建筑工程         深圳美丽生态股份有限公司     主板   \n",
       "9      000011.SZ  000011    深物业A     区域地产    深圳市物业发展(集团)股份有限公司     主板   \n",
       "10     000012.SZ  000012     南玻A       玻璃         中国南玻集团股份有限公司     主板   \n",
       "11     000014.SZ  000014    沙河股份     全国地产           沙河实业股份有限公司     主板   \n",
       "12     000016.SZ  000016    深康佳A     家用电器           康佳集团股份有限公司     主板   \n",
       "13     000017.SZ  000017    深中华A     文教休闲    深圳中华自行车(集团)股份有限公司     主板   \n",
       "14     000019.SZ  000019    深粮控股     其他商业        深圳市深粮控股股份有限公司     主板   \n",
       "15     000020.SZ  000020    深华发A      元器件         深圳中恒华发股份有限公司     主板   \n",
       "16     000021.SZ  000021     深科技     IT设备       深圳长城开发科技股份有限公司     主板   \n",
       "17     000023.SZ  000023    深天地A     其他建材      深圳市天地(集团)股份有限公司     主板   \n",
       "18     000025.SZ  000025     特力A     汽车服务      深圳市特力(集团)股份有限公司     主板   \n",
       "19     000026.SZ  000026     飞亚达     其他商业        飞亚达精密科技股份有限公司     主板   \n",
       "20     000027.SZ  000027    深圳能源     火力发电         深圳能源集团股份有限公司     主板   \n",
       "21     000028.SZ  000028    国药一致     医药商业       国药集团一致药业股份有限公司     主板   \n",
       "22     000029.SZ  000029    深深房A     区域地产  深圳经济特区房地产(集团)股份有限公司     主板   \n",
       "23     000030.SZ  000030    富奥股份     汽车配件        富奥汽车零部件股份有限公司     主板   \n",
       "24     000031.SZ  000031     大悦城     全国地产        大悦城控股集团股份有限公司     主板   \n",
       "25     000032.SZ  000032    深桑达A      元器件        深圳市桑达实业股份有限公司     主板   \n",
       "26     000034.SZ  000034    神州数码      综合类         神州数码集团股份有限公司     主板   \n",
       "27     000035.SZ  000035    中国天楹     环境保护           中国天楹股份有限公司     主板   \n",
       "28     000036.SZ  000036    华联控股     全国地产           华联控股股份有限公司     主板   \n",
       "29     000037.SZ  000037    深南电A     火力发电         深圳南山热电股份有限公司     主板   \n",
       "...          ...     ...     ...      ...                  ...    ...   \n",
       "18964        NaN     NaN  华民君联资本      NaN         华民君联资本投资有限公司    NaN   \n",
       "18965        NaN     NaN    杭州千鹰      NaN       杭州千鹰展翼投资管理有限公司    NaN   \n",
       "18966        NaN     NaN    永拓投资      NaN         江苏永拓投资管理有限公司    NaN   \n",
       "18967        NaN     NaN    和泽资产      NaN         深圳和泽资产管理有限公司    NaN   \n",
       "18968        NaN     NaN    柒福投资      NaN          深圳市柒福投资有限公司    NaN   \n",
       "18969        NaN     NaN  景涵财务咨询      NaN   西安景涵财务咨询合伙企业(有限合伙)    NaN   \n",
       "18970        NaN     NaN  合德丰泰投资      NaN       北京合德丰泰投资顾问有限公司    NaN   \n",
       "18971        NaN     NaN    兆顺投资      NaN           上海兆顺投资有限公司    NaN   \n",
       "18972        NaN     NaN  上善若水投资      NaN  深圳市上善若水投资合伙企业(有限合伙)    NaN   \n",
       "18973        NaN     NaN    元沣资产      NaN       元沣(深圳)资产管理有限公司    NaN   \n",
       "18974        NaN     NaN    寓隆资产      NaN         北京寓隆资产管理有限公司    NaN   \n",
       "18975        NaN     NaN    百合投资      NaN      深圳市前海百合投资管理有限公司    NaN   \n",
       "18976        NaN     NaN  弘德隆盛投资      NaN     广州弘德隆盛投资管理有限责任公司    NaN   \n",
       "18977        NaN     NaN   惠鸿禾投资      NaN        江苏惠鸿禾投资管理有限公司    NaN   \n",
       "18978        NaN     NaN    今日投资      NaN       今日投资管理(深圳)有限公司    NaN   \n",
       "18979        NaN     NaN   汇添盈投资      NaN        昆山汇添盈投资管理有限公司    NaN   \n",
       "18980        NaN     NaN    平安基金      NaN           平安基金管理有限公司    NaN   \n",
       "18981        NaN     NaN    东证资管      NaN         东方证券资产管理有限公司    NaN   \n",
       "18982        NaN     NaN  华泰证券资管      NaN          华华泰证券资产管理公司    NaN   \n",
       "18983        NaN     NaN  西藏东财基金      NaN         西藏东财基金管理有限公司    NaN   \n",
       "18984        NaN     NaN    中泰资管      NaN     中泰证券（上海）资产管理有限公司    NaN   \n",
       "18985        NaN     NaN    同泰基金      NaN           同泰基金管理有限公司    NaN   \n",
       "18986        NaN     NaN    惠升基金      NaN           惠升基金管理有限公司    NaN   \n",
       "18987        NaN     NaN    朱雀基金      NaN           朱雀基金管理有限公司    NaN   \n",
       "18988        NaN     NaN    淳厚基金      NaN           淳厚基金管理有限公司    NaN   \n",
       "18989        NaN     NaN    博远基金      NaN           博远基金管理有限公司    NaN   \n",
       "18990        NaN     NaN    睿远基金      NaN           睿远基金管理有限公司    NaN   \n",
       "18991        NaN     NaN    华融基金      NaN           华融基金管理有限公司    NaN   \n",
       "18992        NaN     NaN    广发银行      NaN           广发银行股份有限公司    NaN   \n",
       "18993        NaN     NaN    恒丰银行      NaN           恒丰银行股份有限公司    NaN   \n",
       "\n",
       "      exchange list_status   list_date  delist_date  \\\n",
       "0         SZSE           L  19910403.0         -1.0   \n",
       "1         SZSE           L  19910129.0         -1.0   \n",
       "2         SZSE           L  19910114.0         -1.0   \n",
       "3         SZSE           L  19901210.0         -1.0   \n",
       "4         SZSE           L  19920427.0         -1.0   \n",
       "5         SZSE           L  19920413.0         -1.0   \n",
       "6         SZSE           L  19920507.0         -1.0   \n",
       "7         SZSE           L  19910625.0         -1.0   \n",
       "8         SZSE           L  19951027.0         -1.0   \n",
       "9         SZSE           L  19920330.0         -1.0   \n",
       "10        SZSE           L  19920228.0         -1.0   \n",
       "11        SZSE           L  19920602.0         -1.0   \n",
       "12        SZSE           L  19920327.0         -1.0   \n",
       "13        SZSE           L  19920331.0         -1.0   \n",
       "14        SZSE           L  19921012.0         -1.0   \n",
       "15        SZSE           L  19920428.0         -1.0   \n",
       "16        SZSE           L  19940202.0         -1.0   \n",
       "17        SZSE           L  19930429.0         -1.0   \n",
       "18        SZSE           L  19930621.0         -1.0   \n",
       "19        SZSE           L  19930603.0         -1.0   \n",
       "20        SZSE           L  19930903.0         -1.0   \n",
       "21        SZSE           L  19930809.0         -1.0   \n",
       "22        SZSE           L  19930915.0         -1.0   \n",
       "23        SZSE           L  19930929.0         -1.0   \n",
       "24        SZSE           L  19931008.0         -1.0   \n",
       "25        SZSE           L  19931028.0         -1.0   \n",
       "26        SZSE           L  19940509.0         -1.0   \n",
       "27        SZSE           L  19940408.0         -1.0   \n",
       "28        SZSE           L  19940617.0         -1.0   \n",
       "29        SZSE           L  19940701.0         -1.0   \n",
       "...        ...         ...         ...          ...   \n",
       "18964      NaN         NaN         NaN          NaN   \n",
       "18965      NaN         NaN         NaN          NaN   \n",
       "18966      NaN         NaN         NaN          NaN   \n",
       "18967      NaN         NaN         NaN          NaN   \n",
       "18968      NaN         NaN         NaN          NaN   \n",
       "18969      NaN         NaN         NaN          NaN   \n",
       "18970      NaN         NaN         NaN          NaN   \n",
       "18971      NaN         NaN         NaN          NaN   \n",
       "18972      NaN         NaN         NaN          NaN   \n",
       "18973      NaN         NaN         NaN          NaN   \n",
       "18974      NaN         NaN         NaN          NaN   \n",
       "18975      NaN         NaN         NaN          NaN   \n",
       "18976      NaN         NaN         NaN          NaN   \n",
       "18977      NaN         NaN         NaN          NaN   \n",
       "18978      NaN         NaN         NaN          NaN   \n",
       "18979      NaN         NaN         NaN          NaN   \n",
       "18980      NaN         NaN         NaN          NaN   \n",
       "18981      NaN         NaN         NaN          NaN   \n",
       "18982      NaN         NaN         NaN          NaN   \n",
       "18983      NaN         NaN         NaN          NaN   \n",
       "18984      NaN         NaN         NaN          NaN   \n",
       "18985      NaN         NaN         NaN          NaN   \n",
       "18986      NaN         NaN         NaN          NaN   \n",
       "18987      NaN         NaN         NaN          NaN   \n",
       "18988      NaN         NaN         NaN          NaN   \n",
       "18989      NaN         NaN         NaN          NaN   \n",
       "18990      NaN         NaN         NaN          NaN   \n",
       "18991      NaN         NaN         NaN          NaN   \n",
       "18992      NaN         NaN         NaN          NaN   \n",
       "18993      NaN         NaN         NaN          NaN   \n",
       "\n",
       "                       ...                    \\\n",
       "0                      ...                     \n",
       "1                      ...                     \n",
       "2                      ...                     \n",
       "3                      ...                     \n",
       "4                      ...                     \n",
       "5                      ...                     \n",
       "6                      ...                     \n",
       "7                      ...                     \n",
       "8                      ...                     \n",
       "9                      ...                     \n",
       "10                     ...                     \n",
       "11                     ...                     \n",
       "12                     ...                     \n",
       "13                     ...                     \n",
       "14                     ...                     \n",
       "15                     ...                     \n",
       "16                     ...                     \n",
       "17                     ...                     \n",
       "18                     ...                     \n",
       "19                     ...                     \n",
       "20                     ...                     \n",
       "21                     ...                     \n",
       "22                     ...                     \n",
       "23                     ...                     \n",
       "24                     ...                     \n",
       "25                     ...                     \n",
       "26                     ...                     \n",
       "27                     ...                     \n",
       "28                     ...                     \n",
       "29                     ...                     \n",
       "...                    ...                     \n",
       "18964                  ...                     \n",
       "18965                  ...                     \n",
       "18966                  ...                     \n",
       "18967                  ...                     \n",
       "18968                  ...                     \n",
       "18969                  ...                     \n",
       "18970                  ...                     \n",
       "18971                  ...                     \n",
       "18972                  ...                     \n",
       "18973                  ...                     \n",
       "18974                  ...                     \n",
       "18975                  ...                     \n",
       "18976                  ...                     \n",
       "18977                  ...                     \n",
       "18978                  ...                     \n",
       "18979                  ...                     \n",
       "18980                  ...                     \n",
       "18981                  ...                     \n",
       "18982                  ...                     \n",
       "18983                  ...                     \n",
       "18984                  ...                     \n",
       "18985                  ...                     \n",
       "18986                  ...                     \n",
       "18987                  ...                     \n",
       "18988                  ...                     \n",
       "18989                  ...                     \n",
       "18990                  ...                     \n",
       "18991                  ...                     \n",
       "18992                  ...                     \n",
       "18993                  ...                     \n",
       "\n",
       "                                    office                  website  \\\n",
       "0                                      NaN                      NaN   \n",
       "1                                      NaN                      NaN   \n",
       "2                                      NaN                      NaN   \n",
       "3                                      NaN                      NaN   \n",
       "4                                      NaN                      NaN   \n",
       "5                                      NaN                      NaN   \n",
       "6                                      NaN                      NaN   \n",
       "7                                      NaN                      NaN   \n",
       "8                                      NaN                      NaN   \n",
       "9                                      NaN                      NaN   \n",
       "10                                     NaN                      NaN   \n",
       "11                                     NaN                      NaN   \n",
       "12                                     NaN                      NaN   \n",
       "13                                     NaN                      NaN   \n",
       "14                                     NaN                      NaN   \n",
       "15                                     NaN                      NaN   \n",
       "16                                     NaN                      NaN   \n",
       "17                                     NaN                      NaN   \n",
       "18                                     NaN                      NaN   \n",
       "19                                     NaN                      NaN   \n",
       "20                                     NaN                      NaN   \n",
       "21                                     NaN                      NaN   \n",
       "22                                     NaN                      NaN   \n",
       "23                                     NaN                      NaN   \n",
       "24                                     NaN                      NaN   \n",
       "25                                     NaN                      NaN   \n",
       "26                                     NaN                      NaN   \n",
       "27                                     NaN                      NaN   \n",
       "28                                     NaN                      NaN   \n",
       "29                                     NaN                      NaN   \n",
       "...                                    ...                      ...   \n",
       "18964                   北京市光华东里8号中海广场南楼11层         www.hmjlfund.com   \n",
       "18965  浙江省杭州市滨江区长河街道江汉路1785号网新双城大厦3幢701室-7                      NaN   \n",
       "18966               江苏省南京市雨花台区经济开发区凤汇大道37号                      NaN   \n",
       "18967               广东省惠州市惠城区江北华贸大厦1号楼805室                      NaN   \n",
       "18968                广东省深圳市福田区中康路8号雕塑家园927           www.szqftz.com   \n",
       "18969           陕西省西安市高新区高新路88号6幢1单元12307室                      NaN   \n",
       "18970                      北京市朝阳区富力城b2-902                      NaN   \n",
       "18971                  上海市长宁区古北路666号2103B室  www.zhaoshuncapital.com   \n",
       "18972  广东省深圳市宝安区新安街道宝兴路西侧万骏经贸大厦第1栋十五层1513室                      NaN   \n",
       "18973           广东省广州市天河区华夏路28号富力盈信大厦2510室                      NaN   \n",
       "18974                     北京市海淀区碧桐园小区4-409          www.ylzc.cn.com   \n",
       "18975            广东省深圳市前海深港合作区前湾一路1号A栋201室                      NaN   \n",
       "18976        广东省广州市天河区珠江西路08号1001房之自编03A单元                      NaN   \n",
       "18977             江苏省南京市建邺区广聚路31号安科大厦1505室                      NaN   \n",
       "18978          广东省深圳市南山区深南大道10188号新豪方大厦11B                      NaN   \n",
       "18979     江苏省苏州市昆山市前进西路300号中茵世贸广场商务写字楼909室                      NaN   \n",
       "18980                                  NaN                      NaN   \n",
       "18981                                  NaN                      NaN   \n",
       "18982                                  NaN                      NaN   \n",
       "18983                                  NaN                      NaN   \n",
       "18984                                  NaN                      NaN   \n",
       "18985                                  NaN                      NaN   \n",
       "18986                                  NaN                      NaN   \n",
       "18987                                  NaN                      NaN   \n",
       "18988                                  NaN                      NaN   \n",
       "18989                                  NaN                      NaN   \n",
       "18990                                  NaN                      NaN   \n",
       "18991                                  NaN                      NaN   \n",
       "18992                                  NaN                      NaN   \n",
       "18993                                  NaN                      NaN   \n",
       "\n",
       "       setup_date end_date main_business   org_code         credit_code  \\\n",
       "0             NaN      NaN           NaN        NaN                 NaN   \n",
       "1             NaN      NaN           NaN        NaN                 NaN   \n",
       "2             NaN      NaN           NaN        NaN                 NaN   \n",
       "3             NaN      NaN           NaN        NaN                 NaN   \n",
       "4             NaN      NaN           NaN        NaN                 NaN   \n",
       "5             NaN      NaN           NaN        NaN                 NaN   \n",
       "6             NaN      NaN           NaN        NaN                 NaN   \n",
       "7             NaN      NaN           NaN        NaN                 NaN   \n",
       "8             NaN      NaN           NaN        NaN                 NaN   \n",
       "9             NaN      NaN           NaN        NaN                 NaN   \n",
       "10            NaN      NaN           NaN        NaN                 NaN   \n",
       "11            NaN      NaN           NaN        NaN                 NaN   \n",
       "12            NaN      NaN           NaN        NaN                 NaN   \n",
       "13            NaN      NaN           NaN        NaN                 NaN   \n",
       "14            NaN      NaN           NaN        NaN                 NaN   \n",
       "15            NaN      NaN           NaN        NaN                 NaN   \n",
       "16            NaN      NaN           NaN        NaN                 NaN   \n",
       "17            NaN      NaN           NaN        NaN                 NaN   \n",
       "18            NaN      NaN           NaN        NaN                 NaN   \n",
       "19            NaN      NaN           NaN        NaN                 NaN   \n",
       "20            NaN      NaN           NaN        NaN                 NaN   \n",
       "21            NaN      NaN           NaN        NaN                 NaN   \n",
       "22            NaN      NaN           NaN        NaN                 NaN   \n",
       "23            NaN      NaN           NaN        NaN                 NaN   \n",
       "24            NaN      NaN           NaN        NaN                 NaN   \n",
       "25            NaN      NaN           NaN        NaN                 NaN   \n",
       "26            NaN      NaN           NaN        NaN                 NaN   \n",
       "27            NaN      NaN           NaN        NaN                 NaN   \n",
       "28            NaN      NaN           NaN        NaN                 NaN   \n",
       "29            NaN      NaN           NaN        NaN                 NaN   \n",
       "...           ...      ...           ...        ...                 ...   \n",
       "18964  20121226.0     -1.0           NaN  058723930                 NaN   \n",
       "18965  20160125.0     -1.0           NaN        NaN  91330108MA27WT3MXK   \n",
       "18966  20111104.0     -1.0           NaN  585055794  91320115585055794D   \n",
       "18967  20151204.0     -1.0           NaN  359449509  914403003594495095   \n",
       "18968  20080417.0     -1.0           NaN  672996584                 NaN   \n",
       "18969  20150114.0     -1.0           NaN  322319524                 NaN   \n",
       "18970  20071217.0     -1.0           NaN  669922912                 NaN   \n",
       "18971  20131225.0     -1.0           NaN  086229059                 NaN   \n",
       "18972  20111221.0     -1.0           NaN  587919314                 NaN   \n",
       "18973  20151019.0     -1.0           NaN  359266729  914403003592667297   \n",
       "18974  20151203.0     -1.0           NaN  MA0028QK9  91110105MA0028QK90   \n",
       "18975  20141218.0     -1.0           NaN  319737477                 NaN   \n",
       "18976  20101022.0     -1.0           NaN  563958570  91440106563958570X   \n",
       "18977  20150813.0     -1.0           NaN  339437455  91320105339437455W   \n",
       "18978  20160421.0     -1.0           NaN  MA5DB6HU8  91440300MA5DB6HU8P   \n",
       "18979  20161212.0     -1.0           NaN  MA1N30QQ4  91320583MA1N30QQ4P   \n",
       "18980         NaN      NaN           NaN        NaN                 NaN   \n",
       "18981         NaN      NaN           NaN        NaN                 NaN   \n",
       "18982         NaN      NaN           NaN        NaN                 NaN   \n",
       "18983         NaN      NaN           NaN        NaN                 NaN   \n",
       "18984         NaN      NaN           NaN        NaN                 NaN   \n",
       "18985         NaN      NaN           NaN        NaN                 NaN   \n",
       "18986         NaN      NaN           NaN        NaN                 NaN   \n",
       "18987         NaN      NaN           NaN        NaN                 NaN   \n",
       "18988         NaN      NaN           NaN        NaN                 NaN   \n",
       "18989         NaN      NaN           NaN        NaN                 NaN   \n",
       "18990         NaN      NaN           NaN        NaN                 NaN   \n",
       "18991         NaN      NaN           NaN        NaN                 NaN   \n",
       "18992         NaN      NaN           NaN        NaN                 NaN   \n",
       "18993         NaN      NaN           NaN        NaN                 NaN   \n",
       "\n",
       "       label_manager label_custodian                                  label  \n",
       "0                     FUND_CUSTODIAN  COMPANY;LISTED_COMPANY;FUND_CUSTODIAN  \n",
       "1                                                    COMPANY;LISTED_COMPANY  \n",
       "2                                                    COMPANY;LISTED_COMPANY  \n",
       "3                                                    COMPANY;LISTED_COMPANY  \n",
       "4                                                    COMPANY;LISTED_COMPANY  \n",
       "5                                                    COMPANY;LISTED_COMPANY  \n",
       "6                                                    COMPANY;LISTED_COMPANY  \n",
       "7                                                    COMPANY;LISTED_COMPANY  \n",
       "8                                                    COMPANY;LISTED_COMPANY  \n",
       "9                                                    COMPANY;LISTED_COMPANY  \n",
       "10                                                   COMPANY;LISTED_COMPANY  \n",
       "11                                                   COMPANY;LISTED_COMPANY  \n",
       "12                                                   COMPANY;LISTED_COMPANY  \n",
       "13                                                   COMPANY;LISTED_COMPANY  \n",
       "14                                                   COMPANY;LISTED_COMPANY  \n",
       "15                                                   COMPANY;LISTED_COMPANY  \n",
       "16                                                   COMPANY;LISTED_COMPANY  \n",
       "17                                                   COMPANY;LISTED_COMPANY  \n",
       "18                                                   COMPANY;LISTED_COMPANY  \n",
       "19                                                   COMPANY;LISTED_COMPANY  \n",
       "20                                                   COMPANY;LISTED_COMPANY  \n",
       "21                                                   COMPANY;LISTED_COMPANY  \n",
       "22                                                   COMPANY;LISTED_COMPANY  \n",
       "23                                                   COMPANY;LISTED_COMPANY  \n",
       "24                                                   COMPANY;LISTED_COMPANY  \n",
       "25                                                   COMPANY;LISTED_COMPANY  \n",
       "26                                                   COMPANY;LISTED_COMPANY  \n",
       "27                                                   COMPANY;LISTED_COMPANY  \n",
       "28                                                   COMPANY;LISTED_COMPANY  \n",
       "29                                                   COMPANY;LISTED_COMPANY  \n",
       "...              ...             ...                                    ...  \n",
       "18964   FUND_MANAGER                                   COMPANY;FUND_MANAGER  \n",
       "18965   FUND_MANAGER                                   COMPANY;FUND_MANAGER  \n",
       "18966   FUND_MANAGER                                   COMPANY;FUND_MANAGER  \n",
       "18967   FUND_MANAGER                                   COMPANY;FUND_MANAGER  \n",
       "18968   FUND_MANAGER                                   COMPANY;FUND_MANAGER  \n",
       "18969   FUND_MANAGER                                   COMPANY;FUND_MANAGER  \n",
       "18970   FUND_MANAGER                                   COMPANY;FUND_MANAGER  \n",
       "18971   FUND_MANAGER                                   COMPANY;FUND_MANAGER  \n",
       "18972   FUND_MANAGER                                   COMPANY;FUND_MANAGER  \n",
       "18973   FUND_MANAGER                                   COMPANY;FUND_MANAGER  \n",
       "18974   FUND_MANAGER                                   COMPANY;FUND_MANAGER  \n",
       "18975   FUND_MANAGER                                   COMPANY;FUND_MANAGER  \n",
       "18976   FUND_MANAGER                                   COMPANY;FUND_MANAGER  \n",
       "18977   FUND_MANAGER                                   COMPANY;FUND_MANAGER  \n",
       "18978   FUND_MANAGER                                   COMPANY;FUND_MANAGER  \n",
       "18979   FUND_MANAGER                                   COMPANY;FUND_MANAGER  \n",
       "18980   FUND_MANAGER                                   COMPANY;FUND_MANAGER  \n",
       "18981   FUND_MANAGER                                   COMPANY;FUND_MANAGER  \n",
       "18982   FUND_MANAGER                                   COMPANY;FUND_MANAGER  \n",
       "18983   FUND_MANAGER                                   COMPANY;FUND_MANAGER  \n",
       "18984   FUND_MANAGER                                   COMPANY;FUND_MANAGER  \n",
       "18985   FUND_MANAGER                                   COMPANY;FUND_MANAGER  \n",
       "18986   FUND_MANAGER                                   COMPANY;FUND_MANAGER  \n",
       "18987   FUND_MANAGER                                   COMPANY;FUND_MANAGER  \n",
       "18988   FUND_MANAGER                                   COMPANY;FUND_MANAGER  \n",
       "18989   FUND_MANAGER                                   COMPANY;FUND_MANAGER  \n",
       "18990   FUND_MANAGER                                   COMPANY;FUND_MANAGER  \n",
       "18991   FUND_MANAGER                                   COMPANY;FUND_MANAGER  \n",
       "18992                 FUND_CUSTODIAN                 COMPANY;FUND_CUSTODIAN  \n",
       "18993                 FUND_CUSTODIAN                 COMPANY;FUND_CUSTODIAN  \n",
       "\n",
       "[18994 rows x 24 columns]"
      ]
     },
     "execution_count": 34,
     "metadata": {},
     "output_type": "execute_result"
    }
   ],
   "source": [
    "node_companies"
   ]
  },
  {
   "cell_type": "markdown",
   "metadata": {},
   "source": [
    "### 节点：行业"
   ]
  },
  {
   "cell_type": "code",
   "execution_count": 158,
   "metadata": {
    "ExecuteTime": {
     "end_time": "2020-01-28T04:51:29.717202Z",
     "start_time": "2020-01-28T04:51:29.713197Z"
    }
   },
   "outputs": [],
   "source": [
    "all_dicts['node_industries'] = {'industry':'industry:ID(industry)', # 所属行业 \n",
    "                                'label':':LABEL'\n",
    "                               }"
   ]
  },
  {
   "cell_type": "code",
   "execution_count": 159,
   "metadata": {
    "ExecuteTime": {
     "end_time": "2020-01-28T04:51:35.509913Z",
     "start_time": "2020-01-28T04:51:35.501922Z"
    }
   },
   "outputs": [],
   "source": [
    "df_industry = pd.DataFrame({'industry':[c for c in df_company_lsit_all.industry.unique() if not pd.isnull(c)]})\n",
    "df_industry['label']='INDUSTRY'"
   ]
  },
  {
   "cell_type": "code",
   "execution_count": 160,
   "metadata": {
    "ExecuteTime": {
     "end_time": "2020-01-28T04:51:40.688382Z",
     "start_time": "2020-01-28T04:51:40.618403Z"
    },
    "scrolled": false
   },
   "outputs": [
    {
     "name": "stdout",
     "output_type": "stream",
     "text": [
      "save header {}..\n",
      "save_data ...\n",
      " ./data_20200204/output/node_industries.csv\n",
      "(110, 2)\n"
     ]
    }
   ],
   "source": [
    "types = 'node_industries'\n",
    "temp = generate_input_files(df_industry,dicts=all_dicts[types],types = types,output_path = output_path)"
   ]
  },
  {
   "cell_type": "markdown",
   "metadata": {},
   "source": [
    "### 关系：股票-->行业"
   ]
  },
  {
   "cell_type": "code",
   "execution_count": 161,
   "metadata": {
    "ExecuteTime": {
     "end_time": "2020-01-28T04:52:50.947312Z",
     "start_time": "2020-01-28T04:52:50.942311Z"
    }
   },
   "outputs": [],
   "source": [
    "all_dicts['rel_share_in_industry'] = {'fullname':':START_ID(company)', # 股票代码\n",
    "                                      'industry':':END_ID(industry)', # 所属行业\n",
    "                                      'type':':TYPE'\n",
    "                                      }"
   ]
  },
  {
   "cell_type": "code",
   "execution_count": 162,
   "metadata": {
    "ExecuteTime": {
     "end_time": "2020-01-28T04:52:51.524828Z",
     "start_time": "2020-01-28T04:52:51.467831Z"
    }
   },
   "outputs": [],
   "source": [
    "rel_share_in_industry = df_company_lsit_all[['industry','fullname']]\n",
    "\n",
    "rel_share_in_industry = rel_share_in_industry[rel_share_in_industry['fullname'].notnull()&rel_share_in_industry['industry'].notnull()]\n",
    "rel_share_in_industry['type']='IN_INDUSTRY'"
   ]
  },
  {
   "cell_type": "code",
   "execution_count": 163,
   "metadata": {
    "ExecuteTime": {
     "end_time": "2020-01-28T04:52:51.989859Z",
     "start_time": "2020-01-28T04:52:51.921864Z"
    },
    "scrolled": true
   },
   "outputs": [
    {
     "name": "stdout",
     "output_type": "stream",
     "text": [
      "save header {}..\n",
      "save_data ...\n",
      " ./data_20200204/output/rel_share_in_industry.csv\n",
      "(3766, 3)\n"
     ]
    }
   ],
   "source": [
    "types = 'rel_share_in_industry'\n",
    "temp = generate_input_files(rel_share_in_industry,dicts=all_dicts[types],types = types, output_path = output_path)"
   ]
  },
  {
   "cell_type": "code",
   "execution_count": 164,
   "metadata": {
    "ExecuteTime": {
     "end_time": "2020-01-28T04:52:56.040141Z",
     "start_time": "2020-01-28T04:52:56.020139Z"
    }
   },
   "outputs": [
    {
     "data": {
      "text/html": [
       "<div>\n",
       "<style scoped>\n",
       "    .dataframe tbody tr th:only-of-type {\n",
       "        vertical-align: middle;\n",
       "    }\n",
       "\n",
       "    .dataframe tbody tr th {\n",
       "        vertical-align: top;\n",
       "    }\n",
       "\n",
       "    .dataframe thead th {\n",
       "        text-align: right;\n",
       "    }\n",
       "</style>\n",
       "<table border=\"1\" class=\"dataframe\">\n",
       "  <thead>\n",
       "    <tr style=\"text-align: right;\">\n",
       "      <th></th>\n",
       "      <th>ts_code</th>\n",
       "      <th>symbol</th>\n",
       "      <th>name</th>\n",
       "      <th>industry</th>\n",
       "      <th>fullname</th>\n",
       "      <th>market</th>\n",
       "      <th>exchange</th>\n",
       "      <th>list_status</th>\n",
       "      <th>list_date</th>\n",
       "      <th>delist_date</th>\n",
       "      <th>label_listed_company</th>\n",
       "    </tr>\n",
       "  </thead>\n",
       "  <tbody>\n",
       "    <tr>\n",
       "      <th>0</th>\n",
       "      <td>000001.SZ</td>\n",
       "      <td>000001</td>\n",
       "      <td>平安银行</td>\n",
       "      <td>银行</td>\n",
       "      <td>平安银行股份有限公司</td>\n",
       "      <td>主板</td>\n",
       "      <td>SZSE</td>\n",
       "      <td>L</td>\n",
       "      <td>19910403</td>\n",
       "      <td>-1</td>\n",
       "      <td>LISTED_COMPANY</td>\n",
       "    </tr>\n",
       "    <tr>\n",
       "      <th>1</th>\n",
       "      <td>000002.SZ</td>\n",
       "      <td>000002</td>\n",
       "      <td>万科A</td>\n",
       "      <td>全国地产</td>\n",
       "      <td>万科企业股份有限公司</td>\n",
       "      <td>主板</td>\n",
       "      <td>SZSE</td>\n",
       "      <td>L</td>\n",
       "      <td>19910129</td>\n",
       "      <td>-1</td>\n",
       "      <td>LISTED_COMPANY</td>\n",
       "    </tr>\n",
       "    <tr>\n",
       "      <th>2</th>\n",
       "      <td>000004.SZ</td>\n",
       "      <td>000004</td>\n",
       "      <td>国农科技</td>\n",
       "      <td>生物制药</td>\n",
       "      <td>深圳中国农大科技股份有限公司</td>\n",
       "      <td>主板</td>\n",
       "      <td>SZSE</td>\n",
       "      <td>L</td>\n",
       "      <td>19910114</td>\n",
       "      <td>-1</td>\n",
       "      <td>LISTED_COMPANY</td>\n",
       "    </tr>\n",
       "    <tr>\n",
       "      <th>3</th>\n",
       "      <td>000005.SZ</td>\n",
       "      <td>000005</td>\n",
       "      <td>世纪星源</td>\n",
       "      <td>环境保护</td>\n",
       "      <td>深圳世纪星源股份有限公司</td>\n",
       "      <td>主板</td>\n",
       "      <td>SZSE</td>\n",
       "      <td>L</td>\n",
       "      <td>19901210</td>\n",
       "      <td>-1</td>\n",
       "      <td>LISTED_COMPANY</td>\n",
       "    </tr>\n",
       "    <tr>\n",
       "      <th>4</th>\n",
       "      <td>000006.SZ</td>\n",
       "      <td>000006</td>\n",
       "      <td>深振业A</td>\n",
       "      <td>区域地产</td>\n",
       "      <td>深圳市振业(集团)股份有限公司</td>\n",
       "      <td>主板</td>\n",
       "      <td>SZSE</td>\n",
       "      <td>L</td>\n",
       "      <td>19920427</td>\n",
       "      <td>-1</td>\n",
       "      <td>LISTED_COMPANY</td>\n",
       "    </tr>\n",
       "  </tbody>\n",
       "</table>\n",
       "</div>"
      ],
      "text/plain": [
       "     ts_code  symbol  name industry         fullname market exchange  \\\n",
       "0  000001.SZ  000001  平安银行       银行       平安银行股份有限公司     主板     SZSE   \n",
       "1  000002.SZ  000002   万科A     全国地产       万科企业股份有限公司     主板     SZSE   \n",
       "2  000004.SZ  000004  国农科技     生物制药   深圳中国农大科技股份有限公司     主板     SZSE   \n",
       "3  000005.SZ  000005  世纪星源     环境保护     深圳世纪星源股份有限公司     主板     SZSE   \n",
       "4  000006.SZ  000006  深振业A     区域地产  深圳市振业(集团)股份有限公司     主板     SZSE   \n",
       "\n",
       "  list_status  list_date  delist_date label_listed_company  \n",
       "0           L   19910403           -1       LISTED_COMPANY  \n",
       "1           L   19910129           -1       LISTED_COMPANY  \n",
       "2           L   19910114           -1       LISTED_COMPANY  \n",
       "3           L   19901210           -1       LISTED_COMPANY  \n",
       "4           L   19920427           -1       LISTED_COMPANY  "
      ]
     },
     "execution_count": 164,
     "metadata": {},
     "output_type": "execute_result"
    }
   ],
   "source": [
    "df_company_lsit_all.head()"
   ]
  },
  {
   "cell_type": "markdown",
   "metadata": {},
   "source": [
    "### 节点：省份"
   ]
  },
  {
   "cell_type": "markdown",
   "metadata": {
    "ExecuteTime": {
     "end_time": "2020-01-20T05:40:34.648826Z",
     "start_time": "2020-01-20T05:40:34.599823Z"
    }
   },
   "source": [
    "##### 上市公司基本信息"
   ]
  },
  {
   "cell_type": "code",
   "execution_count": 165,
   "metadata": {
    "ExecuteTime": {
     "end_time": "2020-01-28T04:58:58.703501Z",
     "start_time": "2020-01-28T04:58:58.664464Z"
    }
   },
   "outputs": [],
   "source": [
    "df_company_detail = pd.read_csv(data_path + company_detail_name)"
   ]
  },
  {
   "cell_type": "code",
   "execution_count": 166,
   "metadata": {
    "ExecuteTime": {
     "end_time": "2020-01-28T04:59:24.507939Z",
     "start_time": "2020-01-28T04:59:24.499946Z"
    }
   },
   "outputs": [],
   "source": [
    "df_company_detail['symbol'] = df_company_detail['ts_code'].apply(lambda x:x.split('.')[0])"
   ]
  },
  {
   "cell_type": "code",
   "execution_count": 167,
   "metadata": {
    "ExecuteTime": {
     "end_time": "2020-01-28T04:54:21.016457Z",
     "start_time": "2020-01-28T04:54:21.011488Z"
    }
   },
   "outputs": [],
   "source": [
    "all_dicts['node_province'] = {'province':'province:ID(province)', # 所属行业 \n",
    "                                'label':':LABEL'\n",
    "                               }"
   ]
  },
  {
   "cell_type": "code",
   "execution_count": 168,
   "metadata": {
    "ExecuteTime": {
     "end_time": "2020-01-28T04:54:21.636638Z",
     "start_time": "2020-01-28T04:54:21.584639Z"
    }
   },
   "outputs": [],
   "source": [
    "node_province1 = pd.DataFrame({'province':[c for c in df_company_detail.province.unique() if not pd.isnull(c)]})\n",
    "node_province2 = pd.DataFrame({'province':[c for c in df_fund_company.province.unique() if not pd.isnull(c)]})\n",
    "node_province = pd.concat([node_province1,node_province2]).drop_duplicates()\n",
    "node_province['label']='PROVINCE'"
   ]
  },
  {
   "cell_type": "code",
   "execution_count": 169,
   "metadata": {
    "ExecuteTime": {
     "end_time": "2020-01-28T04:54:24.191310Z",
     "start_time": "2020-01-28T04:54:24.173306Z"
    },
    "scrolled": true
   },
   "outputs": [
    {
     "name": "stdout",
     "output_type": "stream",
     "text": [
      "save header {}..\n",
      "save_data ...\n",
      " ./data_20200204/output/node_province.csv\n",
      "(32, 2)\n"
     ]
    }
   ],
   "source": [
    "types = 'node_province'\n",
    "temp = generate_input_files(node_province,dicts=all_dicts[types],types = types, output_path = output_path)"
   ]
  },
  {
   "cell_type": "markdown",
   "metadata": {},
   "source": [
    "### 节点：城市"
   ]
  },
  {
   "cell_type": "code",
   "execution_count": 170,
   "metadata": {
    "ExecuteTime": {
     "end_time": "2020-01-28T04:54:29.535893Z",
     "start_time": "2020-01-28T04:54:29.531896Z"
    }
   },
   "outputs": [],
   "source": [
    "all_dicts['node_city'] = {'city':'city:ID(city)', # 所属行业 \n",
    "                          'label':':LABEL'\n",
    "                          }"
   ]
  },
  {
   "cell_type": "code",
   "execution_count": 171,
   "metadata": {
    "ExecuteTime": {
     "end_time": "2020-01-28T04:54:30.306941Z",
     "start_time": "2020-01-28T04:54:30.250944Z"
    }
   },
   "outputs": [],
   "source": [
    "node_city1 = pd.DataFrame({'city':[c for c in df_company_detail.city.unique() if not pd.isnull(c)]})\n",
    "node_city2 = pd.DataFrame({'city':[c for c in df_fund_company.city.unique() if not pd.isnull(c)]})\n",
    "node_city = pd.concat([node_city1,node_city2]).drop_duplicates()\n",
    "\n",
    "node_city['label']='CITY'"
   ]
  },
  {
   "cell_type": "code",
   "execution_count": 172,
   "metadata": {
    "ExecuteTime": {
     "end_time": "2020-01-28T04:54:31.954057Z",
     "start_time": "2020-01-28T04:54:31.937081Z"
    },
    "scrolled": true
   },
   "outputs": [
    {
     "name": "stdout",
     "output_type": "stream",
     "text": [
      "save header {}..\n",
      "save_data ...\n",
      " ./data_20200204/output/node_city.csv\n",
      "(341, 2)\n"
     ]
    }
   ],
   "source": [
    "types = 'node_city'\n",
    "temp = generate_input_files(node_city,dicts=all_dicts[types],types = types,output_path = output_path)"
   ]
  },
  {
   "cell_type": "markdown",
   "metadata": {},
   "source": [
    "### 关系：公司-->城市"
   ]
  },
  {
   "cell_type": "code",
   "execution_count": 173,
   "metadata": {
    "ExecuteTime": {
     "end_time": "2020-01-28T05:03:12.646736Z",
     "start_time": "2020-01-28T05:03:12.560742Z"
    }
   },
   "outputs": [],
   "source": [
    "rel_company_in_city1 = pd.merge(df_company_detail,df_company_lsit_all[['symbol','fullname']],on='symbol',how='left')[['fullname','city']]\n",
    "rel_company_in_city2 = df_fund_company[['fullname','city']]\n",
    "\n",
    "rel_company_in_city = pd.concat([rel_company_in_city1,rel_company_in_city2]).drop_duplicates()\n",
    "\n",
    "rel_company_in_city['type']='IN_CITY'"
   ]
  },
  {
   "cell_type": "code",
   "execution_count": 174,
   "metadata": {
    "ExecuteTime": {
     "end_time": "2020-01-28T05:03:13.263279Z",
     "start_time": "2020-01-28T05:03:13.257278Z"
    }
   },
   "outputs": [],
   "source": [
    "all_dicts['rel_company_in_city'] = {'fullname':':START_ID(company)', # 股票代码\n",
    "                                  'city':':END_ID(city)', # 所属城市\n",
    "                                  'type':':TYPE'\n",
    "                                  }"
   ]
  },
  {
   "cell_type": "code",
   "execution_count": 175,
   "metadata": {
    "ExecuteTime": {
     "end_time": "2020-01-28T05:03:45.458429Z",
     "start_time": "2020-01-28T05:03:45.447432Z"
    }
   },
   "outputs": [],
   "source": [
    "rel_company_in_city = rel_company_in_city[rel_company_in_city['city'].notnull()&rel_company_in_city['fullname'].notnull()]\n"
   ]
  },
  {
   "cell_type": "code",
   "execution_count": 176,
   "metadata": {
    "ExecuteTime": {
     "end_time": "2020-01-28T05:03:59.046597Z",
     "start_time": "2020-01-28T05:03:58.967630Z"
    },
    "scrolled": true
   },
   "outputs": [
    {
     "name": "stdout",
     "output_type": "stream",
     "text": [
      "save header {}..\n",
      "save_data ...\n",
      " ./data_20200204/output/rel_company_in_city.csv\n",
      "(18964, 3)\n"
     ]
    }
   ],
   "source": [
    "types = 'rel_company_in_city'\n",
    "temp = generate_input_files(rel_company_in_city,dicts=all_dicts[types],types = types,output_path = output_path)"
   ]
  },
  {
   "cell_type": "markdown",
   "metadata": {},
   "source": [
    "### 关系：城市-->省份"
   ]
  },
  {
   "cell_type": "code",
   "execution_count": 177,
   "metadata": {
    "ExecuteTime": {
     "end_time": "2020-01-28T05:04:41.238480Z",
     "start_time": "2020-01-28T05:04:41.235479Z"
    }
   },
   "outputs": [],
   "source": [
    "all_dicts['rel_city_in_province'] = {'city':':START_ID(city)', \n",
    "                                  'province':':END_ID(province)', \n",
    "                                  'type':':TYPE'\n",
    "                                  }"
   ]
  },
  {
   "cell_type": "code",
   "execution_count": 178,
   "metadata": {
    "ExecuteTime": {
     "end_time": "2020-01-28T05:05:42.129526Z",
     "start_time": "2020-01-28T05:05:42.062523Z"
    }
   },
   "outputs": [],
   "source": [
    "rel_city_in_province1= df_company_detail[['province','city']]\n",
    "rel_city_in_province2= df_fund_company[['province','city']]\n",
    "rel_city_in_province = pd.concat([rel_city_in_province1,rel_city_in_province2]).drop_duplicates()\n",
    "\n",
    "rel_city_in_province = rel_city_in_province[rel_city_in_province['province'].notnull()&rel_city_in_province['city'].notnull()]\n",
    "rel_city_in_province['type']='IN_PROVINCE'"
   ]
  },
  {
   "cell_type": "code",
   "execution_count": 179,
   "metadata": {
    "ExecuteTime": {
     "end_time": "2020-01-28T05:05:59.191692Z",
     "start_time": "2020-01-28T05:05:59.135694Z"
    },
    "scrolled": false
   },
   "outputs": [
    {
     "name": "stdout",
     "output_type": "stream",
     "text": [
      "save header {}..\n",
      "save_data ...\n",
      " ./data_20200204/output/rel_city_in_province.csv\n",
      "(341, 3)\n"
     ]
    }
   ],
   "source": [
    "types = 'rel_city_in_province'\n",
    "\n",
    "temp = generate_input_files(rel_city_in_province,dicts=all_dicts[types],types = types,output_path = output_path)"
   ]
  },
  {
   "cell_type": "markdown",
   "metadata": {},
   "source": [
    "### 节点：人（上市公司董事高管）"
   ]
  },
  {
   "cell_type": "markdown",
   "metadata": {},
   "source": [
    "对于公司高管，因为缺少人的唯一身份id，为了避免同名的影响，采用 姓名+性别+生日 进行hash 生成唯一标识。"
   ]
  },
  {
   "cell_type": "code",
   "execution_count": 180,
   "metadata": {
    "ExecuteTime": {
     "end_time": "2020-01-28T05:06:09.957381Z",
     "start_time": "2020-01-28T05:06:09.952379Z"
    }
   },
   "outputs": [],
   "source": [
    "import hashlib"
   ]
  },
  {
   "cell_type": "code",
   "execution_count": 181,
   "metadata": {
    "ExecuteTime": {
     "end_time": "2020-01-28T05:06:10.521532Z",
     "start_time": "2020-01-28T05:06:10.517536Z"
    }
   },
   "outputs": [],
   "source": [
    "def get_md5(string):\n",
    "    \"\"\"Get md5 according to the string\n",
    "    \"\"\"\n",
    "    byte_string = string.encode(\"utf-8\")\n",
    "    md5 = hashlib.md5()\n",
    "    md5.update(byte_string)\n",
    "    result = md5.hexdigest()\n",
    "    return result"
   ]
  },
  {
   "cell_type": "code",
   "execution_count": 182,
   "metadata": {
    "ExecuteTime": {
     "end_time": "2020-01-28T05:06:12.766051Z",
     "start_time": "2020-01-28T05:06:11.855692Z"
    }
   },
   "outputs": [],
   "source": [
    "df_stk_managers = pd.read_csv(data_path + stk_managers_name)"
   ]
  },
  {
   "cell_type": "code",
   "execution_count": 183,
   "metadata": {
    "ExecuteTime": {
     "end_time": "2020-01-28T05:09:48.415427Z",
     "start_time": "2020-01-28T05:09:28.001377Z"
    }
   },
   "outputs": [],
   "source": [
    "df_stk_managers['birthday'] = df_stk_managers['birthday'].apply(lambda x: -1 if pd.isnull(x) else int(x))\n",
    "df_stk_managers['gender'] = df_stk_managers['gender'].apply(lambda x: -1 if x not in ['F','M'] else x)\n",
    "df_stk_managers['hash_cust'] = df_stk_managers.apply(lambda x:get_md5('{}-{}-{}'.format(x['name'],x['gender'],x['birthday'])),axis=1 )"
   ]
  },
  {
   "cell_type": "code",
   "execution_count": 184,
   "metadata": {
    "ExecuteTime": {
     "end_time": "2020-01-28T05:09:48.423378Z",
     "start_time": "2020-01-28T05:09:48.418374Z"
    }
   },
   "outputs": [],
   "source": [
    "all_dicts['node_managers'] = {'hash_cust':'manager_id:ID(manager_id)', \n",
    "                              'name':'name', \n",
    "                              'gender':'gender',\n",
    "                              'edu':'edu',\n",
    "                              'national':'national',\n",
    "                              'birthday':'birthday:long', \n",
    "                              'label':':LABEL'\n",
    "                          }"
   ]
  },
  {
   "cell_type": "code",
   "execution_count": 185,
   "metadata": {
    "ExecuteTime": {
     "end_time": "2020-01-28T05:09:48.489374Z",
     "start_time": "2020-01-28T05:09:48.427376Z"
    }
   },
   "outputs": [],
   "source": [
    "types = 'node_managers'\n",
    "\n",
    "df_stk_managers['label'] = 'MANAGER'\n",
    "node_managers = df_stk_managers[all_dicts[types].keys()]"
   ]
  },
  {
   "cell_type": "code",
   "execution_count": 186,
   "metadata": {
    "ExecuteTime": {
     "end_time": "2020-01-28T05:09:50.489376Z",
     "start_time": "2020-01-28T05:09:48.496380Z"
    },
    "scrolled": true
   },
   "outputs": [
    {
     "name": "stdout",
     "output_type": "stream",
     "text": [
      "save header {}..\n",
      "save_data ...\n",
      " ./data_20200204/output/node_managers.csv\n",
      "(163613, 7)\n"
     ]
    }
   ],
   "source": [
    "node_managers = node_managers.sort_values(['name','gender','edu','national']).drop_duplicates('hash_cust',keep='first')\n",
    "\n",
    "temp = generate_input_files(node_managers,dicts=all_dicts[types],types = types, output_path = output_path)"
   ]
  },
  {
   "cell_type": "markdown",
   "metadata": {},
   "source": [
    "### 关系：公司（上市公司）--> 人(董事高管)"
   ]
  },
  {
   "cell_type": "markdown",
   "metadata": {},
   "source": [
    "计划将高管关系分为六类"
   ]
  },
  {
   "cell_type": "markdown",
   "metadata": {},
   "source": [
    "|中文| 英文|数量|占比|\n",
    "|--|--|--|--|\n",
    "|董事会成员 |Has_Director|125040|0.278736|\n",
    "|监事|Has_Supervisor|60332|0.134491|\n",
    "|委员会成员 |Has_Committee|41544|0.092609|\n",
    "|高管 | Has_Manager |102271|0.227980|\n",
    "|核心技术人员 |Has_Core_Technical_Staff|20|0.000045|\n",
    "|其他 | Has_Othoer_Manager|119389|0.266139|\n"
   ]
  },
  {
   "cell_type": "code",
   "execution_count": 187,
   "metadata": {
    "ExecuteTime": {
     "end_time": "2020-01-28T05:12:43.471818Z",
     "start_time": "2020-01-28T05:12:43.464854Z"
    }
   },
   "outputs": [],
   "source": [
    "all_dicts['rel_listed_company_has_manager'] = {'fullname':':START_ID(company)', \n",
    "                                              'hash_cust':':END_ID(manager_id)', \n",
    "                                              'begin_date':'begin_date:long',\n",
    "                                              'end_date':'end_date:long',\n",
    "                                              'title':'title',\n",
    "                                              'lev':':TYPE'\n",
    "                                              }"
   ]
  },
  {
   "cell_type": "code",
   "execution_count": 188,
   "metadata": {
    "ExecuteTime": {
     "end_time": "2020-01-28T05:10:57.736481Z",
     "start_time": "2020-01-28T05:10:56.221486Z"
    }
   },
   "outputs": [],
   "source": [
    "df_stk_managers['symbol'] = df_stk_managers['ts_code'].apply(lambda x:x.split('.')[0])\n",
    "\n",
    "df_stk_managers['begin_date'] = df_stk_managers['begin_date'].apply(lambda x: -1 if pd.isnull(x) else int(x) )\n",
    "df_stk_managers['end_date'] = df_stk_managers['end_date'].apply(lambda x: -1 if pd.isnull(x) else int(x))\n",
    "df_stk_managers['ann_date'] = df_stk_managers['ann_date'].apply(lambda x: -1 if pd.isnull(x) else int(x))"
   ]
  },
  {
   "cell_type": "code",
   "execution_count": 189,
   "metadata": {
    "ExecuteTime": {
     "end_time": "2020-01-28T05:11:24.940410Z",
     "start_time": "2020-01-28T05:11:24.544326Z"
    }
   },
   "outputs": [],
   "source": [
    "rel_listed_company_has_manager = pd.merge(df_stk_managers,df_company_lsit_all[['symbol','fullname']],on='symbol',how='left')"
   ]
  },
  {
   "cell_type": "code",
   "execution_count": 190,
   "metadata": {
    "ExecuteTime": {
     "end_time": "2020-01-28T05:19:12.146760Z",
     "start_time": "2020-01-28T05:19:12.142766Z"
    }
   },
   "outputs": [],
   "source": [
    "# 部分为空的的人员，为退市的人员\n",
    "# temp = rel_listed_company_has_manager[rel_listed_company_has_manager['fullname'].isnull()]"
   ]
  },
  {
   "cell_type": "code",
   "execution_count": 191,
   "metadata": {
    "ExecuteTime": {
     "end_time": "2020-01-28T05:16:20.958871Z",
     "start_time": "2020-01-28T05:16:20.820851Z"
    }
   },
   "outputs": [],
   "source": [
    "types = 'rel_listed_company_has_manager'\n",
    "\n",
    "rel_listed_company_has_manager = rel_listed_company_has_manager[rel_listed_company_has_manager['fullname'].notnull()&rel_listed_company_has_manager['hash_cust'].notnull()]"
   ]
  },
  {
   "cell_type": "code",
   "execution_count": 192,
   "metadata": {},
   "outputs": [],
   "source": [
    "rel_listed_company_has_manager = rel_listed_company_has_manager.sort_values(['fullname','hash_cust','title','begin_date','end_date'],ascending=False).drop_duplicates(['fullname','hash_cust','title','begin_date'],keep='first')"
   ]
  },
  {
   "cell_type": "code",
   "execution_count": 193,
   "metadata": {
    "ExecuteTime": {
     "end_time": "2020-01-28T05:16:29.483286Z",
     "start_time": "2020-01-28T05:16:25.839286Z"
    },
    "scrolled": true
   },
   "outputs": [
    {
     "name": "stderr",
     "output_type": "stream",
     "text": [
      "/home/kevin/.conda/envs/gluon_py3/lib/python3.6/site-packages/ipykernel_launcher.py:4: SettingWithCopyWarning: \n",
      "A value is trying to be set on a copy of a slice from a DataFrame\n",
      "\n",
      "See the caveats in the documentation: http://pandas.pydata.org/pandas-docs/stable/indexing.html#indexing-view-versus-copy\n",
      "  after removing the cwd from sys.path.\n"
     ]
    },
    {
     "name": "stdout",
     "output_type": "stream",
     "text": [
      "save header {}..\n",
      "save_data ...\n",
      " ./data_20200204/output/rel_listed_company_has_manager.csv\n",
      "(432253, 6)\n"
     ]
    }
   ],
   "source": [
    "temp = generate_input_files(rel_listed_company_has_manager,dicts=all_dicts[types],types = types,output_path=output_path)"
   ]
  },
  {
   "cell_type": "markdown",
   "metadata": {},
   "source": [
    "### 节点：基金"
   ]
  },
  {
   "cell_type": "code",
   "execution_count": 194,
   "metadata": {
    "ExecuteTime": {
     "end_time": "2020-01-28T05:28:07.546459Z",
     "start_time": "2020-01-28T05:28:07.523463Z"
    }
   },
   "outputs": [],
   "source": [
    "df_fund_basic['fund'] = df_fund_basic['ts_code'].apply(lambda x: x.split('.')[0])\n",
    "df_fund_basic['market'] = df_fund_basic['ts_code'].apply(lambda x: x.split('.')[1])"
   ]
  },
  {
   "cell_type": "code",
   "execution_count": 195,
   "metadata": {
    "ExecuteTime": {
     "end_time": "2020-01-28T05:28:08.819361Z",
     "start_time": "2020-01-28T05:28:08.735357Z"
    }
   },
   "outputs": [],
   "source": [
    "df_fund_basic['found_date'] = df_fund_basic['found_date'].apply(lambda x: -1 if pd.isnull(x) else int(x) )\n",
    "df_fund_basic['due_date'] = df_fund_basic['due_date'].apply(lambda x: -1 if pd.isnull(x) else int(x) )\n",
    "df_fund_basic['list_date'] = df_fund_basic['list_date'].apply(lambda x: -1 if pd.isnull(x) else int(x) )\n",
    "df_fund_basic['issue_date'] = df_fund_basic['issue_date'].apply(lambda x: -1 if pd.isnull(x) else int(x) )\n",
    "df_fund_basic['delist_date'] = df_fund_basic['delist_date'].apply(lambda x: -1 if pd.isnull(x) else int(x) )"
   ]
  },
  {
   "cell_type": "code",
   "execution_count": 196,
   "metadata": {
    "ExecuteTime": {
     "end_time": "2020-01-28T05:28:09.623336Z",
     "start_time": "2020-01-28T05:28:09.590368Z"
    }
   },
   "outputs": [],
   "source": [
    "df_fund_basic['issue_amount'] = df_fund_basic['issue_amount'].apply(lambda x:float(x))\n",
    "df_fund_basic['m_fee'] = df_fund_basic['m_fee'].apply(lambda x:float(x))\n",
    "df_fund_basic['c_fee'] = df_fund_basic['c_fee'].apply(lambda x:float(x))\n",
    "df_fund_basic['min_amount'] = df_fund_basic['min_amount'].apply(lambda x:float(x))\n",
    "\n",
    "df_fund_basic['duration_year'] = df_fund_basic['duration_year'].apply(lambda x:float(x))\n"
   ]
  },
  {
   "cell_type": "code",
   "execution_count": 223,
   "metadata": {
    "ExecuteTime": {
     "end_time": "2020-01-28T05:29:49.572812Z",
     "start_time": "2020-01-28T05:29:49.560821Z"
    }
   },
   "outputs": [],
   "source": [
    "all_dicts['node_funds'] =  {'fund':'fund_code:ID(fund_code)', \n",
    "                            'name':'name', \n",
    "                            'fund_type':'fund_type', # 投资类型\n",
    "                            'invest_type':'invest_type', # 投资风格\n",
    "                            'type':'type',  # 基金类型 \n",
    "                            'benchmark':'benchmark', # 业绩比较基准\n",
    "                            'market':'market', #  场外'OF', 场内 'SH', 'SZ'\n",
    "                            'found_date':'found_date:long',  # 成立日期\n",
    "                            'delist_date':'delist_date:long',  # 退市日期\n",
    "                            'status':'status',  #  存续状态: D摘牌 I发行 L已上市\n",
    "                            'label':':LABEL' }"
   ]
  },
  {
   "cell_type": "markdown",
   "metadata": {},
   "source": [
    "#### 数据预处理"
   ]
  },
  {
   "cell_type": "markdown",
   "metadata": {
    "ExecuteTime": {
     "end_time": "2020-01-25T15:55:55.530724Z",
     "start_time": "2020-01-25T15:55:55.523724Z"
    }
   },
   "source": [
    "对于 这几个时间，有两种处理方式：1.作为节点属性；2.作为关系属性\n",
    "\n",
    "- 'found_date'  # 成立日期\n",
    "- 'due_date'    # 到期日期\n",
    "- 'list_date'  # 上市时间\n",
    "- 'issue_date'  # 发行日期\n",
    "- 'delist_date'   # 退市日期\n",
    "\n",
    "每个基金都有唯一的5个时间.\n",
    "但是 因为 Neo4j 不持支对于边添加索引.所以考虑查询效率,将这些属性放于节点上."
   ]
  },
  {
   "cell_type": "code",
   "execution_count": 224,
   "metadata": {
    "ExecuteTime": {
     "end_time": "2020-01-28T05:28:31.715870Z",
     "start_time": "2020-01-28T05:28:31.701866Z"
    }
   },
   "outputs": [],
   "source": [
    "types = 'node_funds'\n",
    "\n",
    "df_fund_basic['label'] = 'FUND'\n",
    "node_funds = df_fund_basic[all_dicts[types].keys()]"
   ]
  },
  {
   "cell_type": "code",
   "execution_count": 225,
   "metadata": {
    "ExecuteTime": {
     "end_time": "2020-01-28T05:28:35.444781Z",
     "start_time": "2020-01-28T05:28:35.402785Z"
    }
   },
   "outputs": [],
   "source": [
    "node_funds = node_funds.sort_values(['fund','found_date','delist_date'],ascending=False).drop_duplicates('fund',keep='first')"
   ]
  },
  {
   "cell_type": "code",
   "execution_count": 226,
   "metadata": {
    "ExecuteTime": {
     "end_time": "2020-01-28T05:28:36.845445Z",
     "start_time": "2020-01-28T05:28:36.624444Z"
    },
    "scrolled": true
   },
   "outputs": [
    {
     "name": "stdout",
     "output_type": "stream",
     "text": [
      "save header {}..\n",
      "save_data ...\n",
      " ./data_20200204/output/node_funds.csv\n",
      "(11036, 11)\n"
     ]
    }
   ],
   "source": [
    "temp = generate_input_files(node_funds,dicts=all_dicts[types],types = types,output_path = output_path)"
   ]
  },
  {
   "cell_type": "code",
   "execution_count": null,
   "metadata": {},
   "outputs": [],
   "source": []
  },
  {
   "cell_type": "markdown",
   "metadata": {},
   "source": [
    "### 关系：基金-->托管人"
   ]
  },
  {
   "cell_type": "code",
   "execution_count": 201,
   "metadata": {},
   "outputs": [],
   "source": [
    "temp = node_companies[['name','fullname']].rename(columns = {'name':'custodian'})"
   ]
  },
  {
   "cell_type": "code",
   "execution_count": 202,
   "metadata": {},
   "outputs": [],
   "source": [
    "rel_fund_has_custodian = pd.merge(df_fund_basic,temp, on='custodian',how='left')[['fund','fullname']]"
   ]
  },
  {
   "cell_type": "code",
   "execution_count": 203,
   "metadata": {},
   "outputs": [],
   "source": [
    "all_dicts['rel_fund_has_custodian'] = {'fund':':START_ID(fund_code)',   # TS基金代码\n",
    "                                      'fullname':':END_ID(company)',   # 股票代码\n",
    "                                      'type':':TYPE'\n",
    "                                     }"
   ]
  },
  {
   "cell_type": "code",
   "execution_count": 204,
   "metadata": {},
   "outputs": [],
   "source": [
    "rel_fund_has_custodian['type']='HAS_CUSTODIAN'"
   ]
  },
  {
   "cell_type": "code",
   "execution_count": 205,
   "metadata": {},
   "outputs": [
    {
     "name": "stdout",
     "output_type": "stream",
     "text": [
      "save header {}..\n",
      "save_data ...\n",
      " ./data_20200204/output/rel_fund_has_custodian.csv\n",
      "(11100, 3)\n"
     ]
    }
   ],
   "source": [
    "types = 'rel_fund_has_custodian'\n",
    "\n",
    "temp = generate_input_files(rel_fund_has_custodian,dicts=all_dicts[types],types = types,output_path = output_path)"
   ]
  },
  {
   "cell_type": "code",
   "execution_count": 206,
   "metadata": {},
   "outputs": [
    {
     "data": {
      "text/html": [
       "<div>\n",
       "<style scoped>\n",
       "    .dataframe tbody tr th:only-of-type {\n",
       "        vertical-align: middle;\n",
       "    }\n",
       "\n",
       "    .dataframe tbody tr th {\n",
       "        vertical-align: top;\n",
       "    }\n",
       "\n",
       "    .dataframe thead th {\n",
       "        text-align: right;\n",
       "    }\n",
       "</style>\n",
       "<table border=\"1\" class=\"dataframe\">\n",
       "  <thead>\n",
       "    <tr style=\"text-align: right;\">\n",
       "      <th></th>\n",
       "      <th>0</th>\n",
       "      <th>1</th>\n",
       "      <th>2</th>\n",
       "      <th>3</th>\n",
       "      <th>4</th>\n",
       "    </tr>\n",
       "  </thead>\n",
       "  <tbody>\n",
       "    <tr>\n",
       "      <th>fund</th>\n",
       "      <td>159970</td>\n",
       "      <td>159986</td>\n",
       "      <td>501090</td>\n",
       "      <td>515390</td>\n",
       "      <td>159981</td>\n",
       "    </tr>\n",
       "    <tr>\n",
       "      <th>fullname</th>\n",
       "      <td>上海浦东发展银行股份有限公司</td>\n",
       "      <td>广发证券股份有限公司</td>\n",
       "      <td>中国民生银行股份有限公司</td>\n",
       "      <td>招商银行股份有限公司</td>\n",
       "      <td>中国农业银行股份有限公司</td>\n",
       "    </tr>\n",
       "    <tr>\n",
       "      <th>type</th>\n",
       "      <td>HAS_CUSTODIAN</td>\n",
       "      <td>HAS_CUSTODIAN</td>\n",
       "      <td>HAS_CUSTODIAN</td>\n",
       "      <td>HAS_CUSTODIAN</td>\n",
       "      <td>HAS_CUSTODIAN</td>\n",
       "    </tr>\n",
       "  </tbody>\n",
       "</table>\n",
       "</div>"
      ],
      "text/plain": [
       "                       0              1              2              3  \\\n",
       "fund              159970         159986         501090         515390   \n",
       "fullname  上海浦东发展银行股份有限公司     广发证券股份有限公司   中国民生银行股份有限公司     招商银行股份有限公司   \n",
       "type       HAS_CUSTODIAN  HAS_CUSTODIAN  HAS_CUSTODIAN  HAS_CUSTODIAN   \n",
       "\n",
       "                      4  \n",
       "fund             159981  \n",
       "fullname   中国农业银行股份有限公司  \n",
       "type      HAS_CUSTODIAN  "
      ]
     },
     "execution_count": 206,
     "metadata": {},
     "output_type": "execute_result"
    }
   ],
   "source": [
    "rel_fund_has_custodian.head().T"
   ]
  },
  {
   "cell_type": "code",
   "execution_count": null,
   "metadata": {},
   "outputs": [],
   "source": []
  },
  {
   "cell_type": "markdown",
   "metadata": {},
   "source": [
    "### 关系：基金-->管理人"
   ]
  },
  {
   "cell_type": "code",
   "execution_count": 207,
   "metadata": {},
   "outputs": [],
   "source": [
    "temp = node_companies[['name','fullname']].rename(columns = {'name':'management'})"
   ]
  },
  {
   "cell_type": "code",
   "execution_count": 208,
   "metadata": {},
   "outputs": [],
   "source": [
    "rel_fund_has_management = pd.merge(df_fund_basic,temp, on='management',how='left')[['fund','fullname']]"
   ]
  },
  {
   "cell_type": "code",
   "execution_count": 209,
   "metadata": {},
   "outputs": [],
   "source": [
    "all_dicts['rel_fund_has_management'] = {'fund':':START_ID(fund_code)',   # TS基金代码\n",
    "                                      'fullname':':END_ID(company)',   # 股票代码\n",
    "                                      'type':':TYPE'\n",
    "                                     }"
   ]
  },
  {
   "cell_type": "code",
   "execution_count": 210,
   "metadata": {},
   "outputs": [],
   "source": [
    "rel_fund_has_management['type']='HAS_MANAGEMENT'"
   ]
  },
  {
   "cell_type": "code",
   "execution_count": 211,
   "metadata": {},
   "outputs": [
    {
     "name": "stdout",
     "output_type": "stream",
     "text": [
      "save header {}..\n",
      "save_data ...\n",
      " ./data_20200204/output/rel_fund_has_management.csv\n",
      "(11112, 3)\n"
     ]
    }
   ],
   "source": [
    "types = 'rel_fund_has_management'\n",
    "\n",
    "temp = generate_input_files(rel_fund_has_management,dicts=all_dicts[types],types = types,output_path = output_path)"
   ]
  },
  {
   "cell_type": "code",
   "execution_count": 212,
   "metadata": {},
   "outputs": [
    {
     "data": {
      "text/html": [
       "<div>\n",
       "<style scoped>\n",
       "    .dataframe tbody tr th:only-of-type {\n",
       "        vertical-align: middle;\n",
       "    }\n",
       "\n",
       "    .dataframe tbody tr th {\n",
       "        vertical-align: top;\n",
       "    }\n",
       "\n",
       "    .dataframe thead th {\n",
       "        text-align: right;\n",
       "    }\n",
       "</style>\n",
       "<table border=\"1\" class=\"dataframe\">\n",
       "  <thead>\n",
       "    <tr style=\"text-align: right;\">\n",
       "      <th></th>\n",
       "      <th>0</th>\n",
       "      <th>1</th>\n",
       "      <th>2</th>\n",
       "      <th>3</th>\n",
       "      <th>4</th>\n",
       "    </tr>\n",
       "  </thead>\n",
       "  <tbody>\n",
       "    <tr>\n",
       "      <th>fund</th>\n",
       "      <td>159970</td>\n",
       "      <td>159986</td>\n",
       "      <td>501090</td>\n",
       "      <td>515390</td>\n",
       "      <td>159981</td>\n",
       "    </tr>\n",
       "    <tr>\n",
       "      <th>fullname</th>\n",
       "      <td>工银瑞信基金管理有限公司</td>\n",
       "      <td>弘毅远方基金管理有限公司</td>\n",
       "      <td>华宝基金管理有限公司</td>\n",
       "      <td>华安基金管理有限公司</td>\n",
       "      <td>建信基金管理有限责任公司</td>\n",
       "    </tr>\n",
       "    <tr>\n",
       "      <th>type</th>\n",
       "      <td>HAS_MANAGEMENT</td>\n",
       "      <td>HAS_MANAGEMENT</td>\n",
       "      <td>HAS_MANAGEMENT</td>\n",
       "      <td>HAS_MANAGEMENT</td>\n",
       "      <td>HAS_MANAGEMENT</td>\n",
       "    </tr>\n",
       "  </tbody>\n",
       "</table>\n",
       "</div>"
      ],
      "text/plain": [
       "                       0               1               2               3  \\\n",
       "fund              159970          159986          501090          515390   \n",
       "fullname    工银瑞信基金管理有限公司    弘毅远方基金管理有限公司      华宝基金管理有限公司      华安基金管理有限公司   \n",
       "type      HAS_MANAGEMENT  HAS_MANAGEMENT  HAS_MANAGEMENT  HAS_MANAGEMENT   \n",
       "\n",
       "                       4  \n",
       "fund              159981  \n",
       "fullname    建信基金管理有限责任公司  \n",
       "type      HAS_MANAGEMENT  "
      ]
     },
     "execution_count": 212,
     "metadata": {},
     "output_type": "execute_result"
    }
   ],
   "source": [
    "rel_fund_has_management.head().T"
   ]
  },
  {
   "cell_type": "code",
   "execution_count": null,
   "metadata": {},
   "outputs": [],
   "source": []
  },
  {
   "cell_type": "markdown",
   "metadata": {
    "ExecuteTime": {
     "end_time": "2020-01-20T05:41:29.472559Z",
     "start_time": "2020-01-20T05:41:25.448556Z"
    }
   },
   "source": [
    "### 关系: 公募基金持仓数据 "
   ]
  },
  {
   "cell_type": "code",
   "execution_count": 213,
   "metadata": {
    "ExecuteTime": {
     "end_time": "2020-01-28T05:16:59.107159Z",
     "start_time": "2020-01-28T05:16:54.370937Z"
    }
   },
   "outputs": [],
   "source": [
    "df_fund_portfolio = pd.read_csv(data_path + fund_portfolio_name )"
   ]
  },
  {
   "cell_type": "code",
   "execution_count": 214,
   "metadata": {
    "ExecuteTime": {
     "end_time": "2020-01-28T05:17:11.873687Z",
     "start_time": "2020-01-28T05:17:10.268694Z"
    }
   },
   "outputs": [],
   "source": [
    "df_fund_portfolio['fund'] = df_fund_portfolio['ts_code'].apply(lambda x: x.split('.')[0])"
   ]
  },
  {
   "cell_type": "code",
   "execution_count": 215,
   "metadata": {
    "ExecuteTime": {
     "end_time": "2020-01-28T05:17:14.176314Z",
     "start_time": "2020-01-28T05:17:12.509318Z"
    }
   },
   "outputs": [],
   "source": [
    "df_fund_portfolio['symbol'] = df_fund_portfolio['symbol'].apply(lambda x: x.split('.')[0])"
   ]
  },
  {
   "cell_type": "code",
   "execution_count": 216,
   "metadata": {
    "ExecuteTime": {
     "end_time": "2020-01-28T05:27:11.838611Z",
     "start_time": "2020-01-28T05:27:11.833616Z"
    }
   },
   "outputs": [],
   "source": [
    "all_dicts['rel_fund_listed_company_portfolio'] = {'fund':':START_ID(fund_code)',   # TS基金代码\n",
    "                                                  'fullname':':END_ID(company)',   # 股票代码\n",
    "                                                  'ann_date':'ann_date:float',   # 公告日期\n",
    "                                                  'end_date':'end_date:float' ,  # 截止日期\n",
    "                                                  'mkv':'mkv:float' ,  # 持有股票市值(元)\n",
    "                                                  'amount':'amount:float' ,  # 持有股票数量（股）\n",
    "                                                  'stk_mkv_ratio':'stk_mkv_ratio:float',   # 占股票市值比\n",
    "                                                  'stk_float_ratio':'stk_float_ratio:float',   # 占流通股本比例\n",
    "                                                  'type':':TYPE'\n",
    "                                                 }"
   ]
  },
  {
   "cell_type": "code",
   "execution_count": 217,
   "metadata": {
    "ExecuteTime": {
     "end_time": "2020-01-28T05:27:17.679041Z",
     "start_time": "2020-01-28T05:27:13.737945Z"
    }
   },
   "outputs": [],
   "source": [
    "df_fund_portfolio['ann_date'] = df_fund_portfolio['ann_date'].apply(lambda x: -1 if pd.isnull(x) else int(x) )\n",
    "df_fund_portfolio['end_date'] = df_fund_portfolio['end_date'].apply(lambda x: -1 if pd.isnull(x) else int(x) )\n",
    "\n",
    "df_fund_portfolio['amount'] = df_fund_portfolio['amount'].apply(float)\n",
    "df_fund_portfolio['stk_mkv_ratio'] = df_fund_portfolio['stk_mkv_ratio'].apply(float)\n",
    "df_fund_portfolio['stk_float_ratio'] = df_fund_portfolio['stk_float_ratio'].apply(float)\n",
    "df_fund_portfolio['mkv'] = df_fund_portfolio['mkv'].apply(float)"
   ]
  },
  {
   "cell_type": "code",
   "execution_count": 218,
   "metadata": {
    "ExecuteTime": {
     "end_time": "2020-01-28T05:27:18.702938Z",
     "start_time": "2020-01-28T05:27:17.682967Z"
    }
   },
   "outputs": [],
   "source": [
    "rel_fund_listed_company_portfolio = pd.merge(df_fund_portfolio,df_company_lsit_all[['symbol','fullname']],on='symbol',how='left')"
   ]
  },
  {
   "cell_type": "code",
   "execution_count": 219,
   "metadata": {
    "ExecuteTime": {
     "end_time": "2020-01-28T05:27:20.473971Z",
     "start_time": "2020-01-28T05:27:18.704939Z"
    }
   },
   "outputs": [],
   "source": [
    "rel_fund_listed_company_portfolio = rel_fund_listed_company_portfolio.sort_values(['fund','fullname','ann_date','end_date'],ascending=False).drop_duplicates(['fund','fullname'],keep='first')"
   ]
  },
  {
   "cell_type": "code",
   "execution_count": 220,
   "metadata": {
    "ExecuteTime": {
     "end_time": "2020-01-28T05:27:20.540027Z",
     "start_time": "2020-01-28T05:27:20.475939Z"
    }
   },
   "outputs": [],
   "source": [
    "rel_fund_listed_company_portfolio['type']='IN_PORTFOLIO'"
   ]
  },
  {
   "cell_type": "code",
   "execution_count": 221,
   "metadata": {
    "ExecuteTime": {
     "end_time": "2020-01-28T05:27:21.282541Z",
     "start_time": "2020-01-28T05:27:21.276544Z"
    }
   },
   "outputs": [
    {
     "data": {
      "text/plain": [
       "(3623603, 9)"
      ]
     },
     "execution_count": 221,
     "metadata": {},
     "output_type": "execute_result"
    }
   ],
   "source": [
    "df_fund_portfolio.shape"
   ]
  },
  {
   "cell_type": "code",
   "execution_count": 222,
   "metadata": {
    "ExecuteTime": {
     "end_time": "2020-01-28T05:27:37.372258Z",
     "start_time": "2020-01-28T05:27:21.970218Z"
    }
   },
   "outputs": [
    {
     "name": "stderr",
     "output_type": "stream",
     "text": [
      "/home/kevin/.conda/envs/gluon_py3/lib/python3.6/site-packages/ipykernel_launcher.py:4: SettingWithCopyWarning: \n",
      "A value is trying to be set on a copy of a slice from a DataFrame\n",
      "\n",
      "See the caveats in the documentation: http://pandas.pydata.org/pandas-docs/stable/indexing.html#indexing-view-versus-copy\n",
      "  after removing the cwd from sys.path.\n"
     ]
    },
    {
     "name": "stdout",
     "output_type": "stream",
     "text": [
      "save header {}..\n",
      "save_data ...\n",
      " ./data_20200204/output/rel_fund_listed_company_portfolio.csv\n",
      "(1462329, 9)\n"
     ]
    }
   ],
   "source": [
    "types = 'rel_fund_listed_company_portfolio'\n",
    "\n",
    "temp = generate_input_files(rel_fund_listed_company_portfolio,dicts=all_dicts[types],types = types,output_path = output_path)"
   ]
  },
  {
   "cell_type": "code",
   "execution_count": null,
   "metadata": {},
   "outputs": [],
   "source": []
  },
  {
   "cell_type": "code",
   "execution_count": null,
   "metadata": {},
   "outputs": [],
   "source": []
  },
  {
   "cell_type": "code",
   "execution_count": null,
   "metadata": {},
   "outputs": [],
   "source": []
  },
  {
   "cell_type": "code",
   "execution_count": null,
   "metadata": {},
   "outputs": [],
   "source": []
  }
 ],
 "metadata": {
  "kernelspec": {
   "display_name": "Python 3",
   "language": "python",
   "name": "python3"
  },
  "language_info": {
   "codemirror_mode": {
    "name": "ipython",
    "version": 3
   },
   "file_extension": ".py",
   "mimetype": "text/x-python",
   "name": "python",
   "nbconvert_exporter": "python",
   "pygments_lexer": "ipython3",
   "version": "3.7.4"
  },
  "toc": {
   "nav_menu": {},
   "number_sections": true,
   "sideBar": true,
   "skip_h1_title": false,
   "toc_cell": false,
   "toc_position": {},
   "toc_section_display": "block",
   "toc_window_display": false
  }
 },
 "nbformat": 4,
 "nbformat_minor": 1
}
